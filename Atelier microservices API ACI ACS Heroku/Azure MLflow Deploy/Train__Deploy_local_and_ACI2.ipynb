{
  "cells": [
    {
      "cell_type": "markdown",
      "id": "f26e6968",
      "metadata": {
        "id": "f26e6968"
      },
      "source": [
        "Dans cet atelier nous allons entrainer un modèle machine learning avec Scikit-Learn et puis le déployer en tant que web service local et aussi en tant que web service ACI \"Azure Container Instance\".\n",
        "\n",
        "Les étapes de cet Atelier sont les suivantes:\n",
        "\n",
        "1. entrainer localement un modèle Scikit-learn\n",
        "2. Suivre les expérimentations Scikit-learn avec MLFlow sur Azure Machine Learning\n",
        "3. Enregistrer le modèle sur Azure Machine Learning\n",
        "4. Déployer et tester le modèle en tant que web service local\n",
        "5. Déployer et tester le modèle en tant que web service ACI \"Azure Container Instance\"\n",
        "\n",
        "Tout au long de cet atelier nous allons utiliser Pima Indians Diabetes Database. Pour de plus amples informations sur les colonnes, visitez le lien ci-dessous:\n",
        "\n",
        "https://www.kaggle.com/datasets/uciml/pima-indians-diabetes-database\n",
        "\n",
        "Smith, J.W., Everhart, J.E., Dickson, W.C., Knowler, W.C., & Johannes, R.S. (1988). Using the ADAP learning algorithm to forecast the onset of diabetes mellitus. In Proceedings of the Symposium on Computer Applications and Medical Care (pp. 261--265). IEEE Computer Society Press."
      ]
    },
    {
      "cell_type": "markdown",
      "id": "f605d080",
      "metadata": {
        "id": "f605d080"
      },
      "source": [
        "## 1. L'entrainement du modèle Scikit-Learn"
      ]
    },
    {
      "cell_type": "markdown",
      "id": "28c4edc1",
      "metadata": {
        "id": "28c4edc1"
      },
      "source": [
        "Assurez vous que vous avez installé anaconda avec une version de python 3.7.*\n",
        "\n",
        "Assurez vous aussi que vous avez Docker installé : https://docs.docker.com/desktop/install/windows-install/\n",
        "\n",
        "Dans le dossier de l'atelier, installez les dépendances requises: pip install -r requirements.txt\n",
        "\n",
        "* azureml-core==1.39\n",
        "* pandas==1.3.5\n",
        "* scikit-learn==0.24.2\n",
        "* cloudpickle==2.0.0\n",
        "* psutil==5.9.0\n",
        "* mlflow==1.24.0"
      ]
    },
    {
      "cell_type": "code",
      "execution_count": 1,
      "id": "7f79e325",
      "metadata": {
        "colab": {
          "base_uri": "https://localhost:8080/"
        },
        "id": "7f79e325",
        "outputId": "978af138-e95b-4e3a-ffc8-262fea2b8641"
      },
      "outputs": [
        {
          "name": "stdout",
          "output_type": "stream",
          "text": [
            "Requirement already satisfied: mlflow in c:\\users\\pc\\appdata\\local\\programs\\python\\python39\\lib\\site-packages (2.9.2)Note: you may need to restart the kernel to use updated packages.\n",
            "\n",
            "Requirement already satisfied: click<9,>=7.0 in c:\\users\\pc\\appdata\\local\\programs\\python\\python39\\lib\\site-packages (from mlflow) (8.1.3)\n",
            "Requirement already satisfied: cloudpickle<4 in c:\\users\\pc\\appdata\\local\\programs\\python\\python39\\lib\\site-packages (from mlflow) (3.0.0)\n",
            "Requirement already satisfied: databricks-cli<1,>=0.8.7 in c:\\users\\pc\\appdata\\local\\programs\\python\\python39\\lib\\site-packages (from mlflow) (0.18.0)\n",
            "Requirement already satisfied: entrypoints<1 in c:\\users\\pc\\appdata\\local\\programs\\python\\python39\\lib\\site-packages (from mlflow) (0.4)\n",
            "Requirement already satisfied: gitpython<4,>=2.1.0 in c:\\users\\pc\\appdata\\local\\programs\\python\\python39\\lib\\site-packages (from mlflow) (3.1.40)\n",
            "Requirement already satisfied: pyyaml<7,>=5.1 in c:\\users\\pc\\appdata\\local\\programs\\python\\python39\\lib\\site-packages (from mlflow) (6.0.1)\n",
            "Requirement already satisfied: protobuf<5,>=3.12.0 in c:\\users\\pc\\appdata\\local\\programs\\python\\python39\\lib\\site-packages (from mlflow) (4.25.1)\n",
            "Requirement already satisfied: pytz<2024 in c:\\users\\pc\\appdata\\local\\programs\\python\\python39\\lib\\site-packages (from mlflow) (2023.3.post1)\n",
            "Requirement already satisfied: requests<3,>=2.17.3 in c:\\users\\pc\\appdata\\local\\programs\\python\\python39\\lib\\site-packages (from mlflow) (2.31.0)\n",
            "Requirement already satisfied: packaging<24 in c:\\users\\pc\\appdata\\local\\programs\\python\\python39\\lib\\site-packages (from mlflow) (23.1)\n",
            "Requirement already satisfied: importlib-metadata!=4.7.0,<8,>=3.7.0 in c:\\users\\pc\\appdata\\local\\programs\\python\\python39\\lib\\site-packages (from mlflow) (6.6.0)\n",
            "Requirement already satisfied: sqlparse<1,>=0.4.0 in c:\\users\\pc\\appdata\\local\\programs\\python\\python39\\lib\\site-packages (from mlflow) (0.4.4)\n",
            "Requirement already satisfied: alembic!=1.10.0,<2 in c:\\users\\pc\\appdata\\local\\programs\\python\\python39\\lib\\site-packages (from mlflow) (1.13.1)\n",
            "Requirement already satisfied: docker<7,>=4.0.0 in c:\\users\\pc\\appdata\\local\\programs\\python\\python39\\lib\\site-packages (from mlflow) (6.1.3)\n",
            "Requirement already satisfied: Flask<4 in c:\\users\\pc\\appdata\\local\\programs\\python\\python39\\lib\\site-packages (from mlflow) (2.3.2)\n",
            "Requirement already satisfied: numpy<2 in c:\\users\\pc\\appdata\\local\\programs\\python\\python39\\lib\\site-packages (from mlflow) (1.23.5)\n",
            "Requirement already satisfied: scipy<2 in c:\\users\\pc\\appdata\\local\\programs\\python\\python39\\lib\\site-packages (from mlflow) (1.11.4)\n",
            "Requirement already satisfied: pandas<3 in c:\\users\\pc\\appdata\\local\\programs\\python\\python39\\lib\\site-packages (from mlflow) (2.1.1)\n",
            "Requirement already satisfied: querystring-parser<2 in c:\\users\\pc\\appdata\\local\\programs\\python\\python39\\lib\\site-packages (from mlflow) (1.2.4)\n",
            "Requirement already satisfied: sqlalchemy<3,>=1.4.0 in c:\\users\\pc\\appdata\\local\\programs\\python\\python39\\lib\\site-packages (from mlflow) (2.0.25)\n",
            "Requirement already satisfied: scikit-learn<2 in c:\\users\\pc\\appdata\\local\\programs\\python\\python39\\lib\\site-packages (from mlflow) (1.3.2)\n",
            "Requirement already satisfied: pyarrow<15,>=4.0.0 in c:\\users\\pc\\appdata\\local\\programs\\python\\python39\\lib\\site-packages (from mlflow) (14.0.2)\n",
            "Requirement already satisfied: markdown<4,>=3.3 in c:\\users\\pc\\appdata\\local\\programs\\python\\python39\\lib\\site-packages (from mlflow) (3.5.1)\n",
            "Requirement already satisfied: matplotlib<4 in c:\\users\\pc\\appdata\\local\\programs\\python\\python39\\lib\\site-packages (from mlflow) (3.8.2)\n",
            "Requirement already satisfied: waitress<3 in c:\\users\\pc\\appdata\\local\\programs\\python\\python39\\lib\\site-packages (from mlflow) (2.1.2)\n",
            "Requirement already satisfied: Jinja2<4,>=3.0 in c:\\users\\pc\\appdata\\local\\programs\\python\\python39\\lib\\site-packages (from mlflow) (3.1.2)\n",
            "Requirement already satisfied: Mako in c:\\users\\pc\\appdata\\local\\programs\\python\\python39\\lib\\site-packages (from alembic!=1.10.0,<2->mlflow) (1.3.0)\n",
            "Requirement already satisfied: typing-extensions>=4 in c:\\users\\pc\\appdata\\roaming\\python\\python39\\site-packages (from alembic!=1.10.0,<2->mlflow) (4.8.0)\n",
            "Requirement already satisfied: colorama in c:\\users\\pc\\appdata\\local\\programs\\python\\python39\\lib\\site-packages (from click<9,>=7.0->mlflow) (0.4.6)\n",
            "Requirement already satisfied: pyjwt>=1.7.0 in c:\\users\\pc\\appdata\\local\\programs\\python\\python39\\lib\\site-packages (from databricks-cli<1,>=0.8.7->mlflow) (2.8.0)\n",
            "Requirement already satisfied: oauthlib>=3.1.0 in c:\\users\\pc\\appdata\\local\\programs\\python\\python39\\lib\\site-packages (from databricks-cli<1,>=0.8.7->mlflow) (3.2.2)\n",
            "Requirement already satisfied: tabulate>=0.7.7 in c:\\users\\pc\\appdata\\local\\programs\\python\\python39\\lib\\site-packages (from databricks-cli<1,>=0.8.7->mlflow) (0.9.0)\n",
            "Requirement already satisfied: six>=1.10.0 in c:\\users\\pc\\appdata\\roaming\\python\\python39\\site-packages (from databricks-cli<1,>=0.8.7->mlflow) (1.16.0)\n",
            "Requirement already satisfied: urllib3<3,>=1.26.7 in c:\\users\\pc\\appdata\\local\\programs\\python\\python39\\lib\\site-packages (from databricks-cli<1,>=0.8.7->mlflow) (2.1.0)\n",
            "Requirement already satisfied: websocket-client>=0.32.0 in c:\\users\\pc\\appdata\\local\\programs\\python\\python39\\lib\\site-packages (from docker<7,>=4.0.0->mlflow) (1.7.0)\n",
            "Requirement already satisfied: pywin32>=304 in c:\\users\\pc\\appdata\\roaming\\python\\python39\\site-packages (from docker<7,>=4.0.0->mlflow) (306)\n",
            "Requirement already satisfied: Werkzeug>=2.3.3 in c:\\users\\pc\\appdata\\local\\programs\\python\\python39\\lib\\site-packages (from Flask<4->mlflow) (2.3.4)\n",
            "Requirement already satisfied: itsdangerous>=2.1.2 in c:\\users\\pc\\appdata\\local\\programs\\python\\python39\\lib\\site-packages (from Flask<4->mlflow) (2.1.2)\n",
            "Requirement already satisfied: blinker>=1.6.2 in c:\\users\\pc\\appdata\\local\\programs\\python\\python39\\lib\\site-packages (from Flask<4->mlflow) (1.6.2)\n",
            "Requirement already satisfied: gitdb<5,>=4.0.1 in c:\\users\\pc\\appdata\\local\\programs\\python\\python39\\lib\\site-packages (from gitpython<4,>=2.1.0->mlflow) (4.0.11)\n",
            "Requirement already satisfied: zipp>=0.5 in c:\\users\\pc\\appdata\\local\\programs\\python\\python39\\lib\\site-packages (from importlib-metadata!=4.7.0,<8,>=3.7.0->mlflow) (3.15.0)\n",
            "Requirement already satisfied: MarkupSafe>=2.0 in c:\\users\\pc\\appdata\\local\\programs\\python\\python39\\lib\\site-packages (from Jinja2<4,>=3.0->mlflow) (2.1.2)\n",
            "Requirement already satisfied: contourpy>=1.0.1 in c:\\users\\pc\\appdata\\local\\programs\\python\\python39\\lib\\site-packages (from matplotlib<4->mlflow) (1.2.0)\n",
            "Requirement already satisfied: cycler>=0.10 in c:\\users\\pc\\appdata\\local\\programs\\python\\python39\\lib\\site-packages (from matplotlib<4->mlflow) (0.12.1)\n",
            "Requirement already satisfied: fonttools>=4.22.0 in c:\\users\\pc\\appdata\\local\\programs\\python\\python39\\lib\\site-packages (from matplotlib<4->mlflow) (4.47.0)\n",
            "Requirement already satisfied: kiwisolver>=1.3.1 in c:\\users\\pc\\appdata\\local\\programs\\python\\python39\\lib\\site-packages (from matplotlib<4->mlflow) (1.4.5)\n",
            "Requirement already satisfied: pillow>=8 in c:\\users\\pc\\appdata\\local\\programs\\python\\python39\\lib\\site-packages (from matplotlib<4->mlflow) (10.2.0)\n",
            "Requirement already satisfied: pyparsing>=2.3.1 in c:\\users\\pc\\appdata\\local\\programs\\python\\python39\\lib\\site-packages (from matplotlib<4->mlflow) (3.1.1)\n",
            "Requirement already satisfied: python-dateutil>=2.7 in c:\\users\\pc\\appdata\\roaming\\python\\python39\\site-packages (from matplotlib<4->mlflow) (2.8.2)\n",
            "Requirement already satisfied: importlib-resources>=3.2.0 in c:\\users\\pc\\appdata\\local\\programs\\python\\python39\\lib\\site-packages (from matplotlib<4->mlflow) (6.1.1)\n",
            "Requirement already satisfied: tzdata>=2022.1 in c:\\users\\pc\\appdata\\local\\programs\\python\\python39\\lib\\site-packages (from pandas<3->mlflow) (2023.3)\n",
            "Requirement already satisfied: charset-normalizer<4,>=2 in c:\\users\\pc\\appdata\\local\\programs\\python\\python39\\lib\\site-packages (from requests<3,>=2.17.3->mlflow) (3.3.2)\n",
            "Requirement already satisfied: idna<4,>=2.5 in c:\\users\\pc\\appdata\\local\\programs\\python\\python39\\lib\\site-packages (from requests<3,>=2.17.3->mlflow) (3.6)\n",
            "Requirement already satisfied: certifi>=2017.4.17 in c:\\users\\pc\\appdata\\local\\programs\\python\\python39\\lib\\site-packages (from requests<3,>=2.17.3->mlflow) (2023.11.17)\n",
            "Requirement already satisfied: joblib>=1.1.1 in c:\\users\\pc\\appdata\\local\\programs\\python\\python39\\lib\\site-packages (from scikit-learn<2->mlflow) (1.3.2)\n",
            "Requirement already satisfied: threadpoolctl>=2.0.0 in c:\\users\\pc\\appdata\\local\\programs\\python\\python39\\lib\\site-packages (from scikit-learn<2->mlflow) (3.2.0)\n",
            "Requirement already satisfied: greenlet!=0.4.17 in c:\\users\\pc\\appdata\\local\\programs\\python\\python39\\lib\\site-packages (from sqlalchemy<3,>=1.4.0->mlflow) (3.0.3)\n",
            "Requirement already satisfied: smmap<6,>=3.0.1 in c:\\users\\pc\\appdata\\local\\programs\\python\\python39\\lib\\site-packages (from gitdb<5,>=4.0.1->gitpython<4,>=2.1.0->mlflow) (5.0.1)\n"
          ]
        },
        {
          "name": "stderr",
          "output_type": "stream",
          "text": [
            "\n",
            "[notice] A new release of pip is available: 23.2.1 -> 23.3.2\n",
            "[notice] To update, run: python.exe -m pip install --upgrade pip\n"
          ]
        }
      ],
      "source": [
        "pip install --upgrade mlflow"
      ]
    },
    {
      "cell_type": "code",
      "execution_count": 3,
      "id": "5aebbfb9",
      "metadata": {
        "colab": {
          "base_uri": "https://localhost:8080/"
        },
        "id": "5aebbfb9",
        "outputId": "54806252-d3c1-4e5d-8717-0a224c586e18"
      },
      "outputs": [
        {
          "name": "stdout",
          "output_type": "stream",
          "text": [
            "Collecting azure-core==1.21.1\n",
            "  Downloading azure_core-1.21.1-py2.py3-none-any.whl (178 kB)\n",
            "\u001b[2K     \u001b[90m━━━━━━━━━━━━━━━━━━━━━━━━━━━━━━━━━━━━━━━━\u001b[0m \u001b[32m178.1/178.1 kB\u001b[0m \u001b[31m1.9 MB/s\u001b[0m eta \u001b[36m0:00:00\u001b[0m\n",
            "\u001b[?25hRequirement already satisfied: requests>=2.18.4 in /usr/local/lib/python3.10/dist-packages (from azure-core==1.21.1) (2.31.0)\n",
            "Requirement already satisfied: six>=1.11.0 in /usr/local/lib/python3.10/dist-packages (from azure-core==1.21.1) (1.16.0)\n",
            "Requirement already satisfied: charset-normalizer<4,>=2 in /usr/local/lib/python3.10/dist-packages (from requests>=2.18.4->azure-core==1.21.1) (3.3.2)\n",
            "Requirement already satisfied: idna<4,>=2.5 in /usr/local/lib/python3.10/dist-packages (from requests>=2.18.4->azure-core==1.21.1) (3.6)\n",
            "Requirement already satisfied: urllib3<3,>=1.21.1 in /usr/local/lib/python3.10/dist-packages (from requests>=2.18.4->azure-core==1.21.1) (2.0.7)\n",
            "Requirement already satisfied: certifi>=2017.4.17 in /usr/local/lib/python3.10/dist-packages (from requests>=2.18.4->azure-core==1.21.1) (2023.11.17)\n",
            "Installing collected packages: azure-core\n",
            "Successfully installed azure-core-1.21.1\n"
          ]
        }
      ],
      "source": [
        "pip install azure-core==1.21.1"
      ]
    },
    {
      "cell_type": "code",
      "execution_count": 4,
      "id": "815225da",
      "metadata": {
        "colab": {
          "base_uri": "https://localhost:8080/"
        },
        "id": "815225da",
        "outputId": "f378c928-d0b7-4a30-a897-633d8ba218c8"
      },
      "outputs": [
        {
          "name": "stdout",
          "output_type": "stream",
          "text": [
            "Collecting azureml-sdk\n",
            "  Downloading azureml_sdk-1.54.0-py3-none-any.whl (2.7 kB)\n",
            "Collecting azureml-core~=1.54.0 (from azureml-sdk)\n",
            "  Downloading azureml_core-1.54.0.post1-py3-none-any.whl (3.3 MB)\n",
            "\u001b[2K     \u001b[90m━━━━━━━━━━━━━━━━━━━━━━━━━━━━━━━━━━━━━━━━\u001b[0m \u001b[32m3.3/3.3 MB\u001b[0m \u001b[31m12.6 MB/s\u001b[0m eta \u001b[36m0:00:00\u001b[0m\n",
            "\u001b[?25hCollecting azureml-dataset-runtime[fuse]~=1.54.0 (from azureml-sdk)\n",
            "  Downloading azureml_dataset_runtime-1.54.0.post1-py3-none-any.whl (2.3 kB)\n",
            "Collecting azureml-train-core~=1.54.0 (from azureml-sdk)\n",
            "  Downloading azureml_train_core-1.54.0-py3-none-any.whl (8.6 MB)\n",
            "\u001b[2K     \u001b[90m━━━━━━━━━━━━━━━━━━━━━━━━━━━━━━━━━━━━━━━━\u001b[0m \u001b[32m8.6/8.6 MB\u001b[0m \u001b[31m50.4 MB/s\u001b[0m eta \u001b[36m0:00:00\u001b[0m\n",
            "\u001b[?25hCollecting azureml-train-automl-client~=1.54.0 (from azureml-sdk)\n",
            "  Downloading azureml_train_automl_client-1.54.0.post1-py3-none-any.whl (137 kB)\n",
            "\u001b[2K     \u001b[90m━━━━━━━━━━━━━━━━━━━━━━━━━━━━━━━━━━━━━━━━\u001b[0m \u001b[32m137.7/137.7 kB\u001b[0m \u001b[31m11.2 MB/s\u001b[0m eta \u001b[36m0:00:00\u001b[0m\n",
            "\u001b[?25hCollecting azureml-pipeline~=1.54.0 (from azureml-sdk)\n",
            "  Downloading azureml_pipeline-1.54.0-py3-none-any.whl (2.4 kB)\n",
            "Requirement already satisfied: pytz in /usr/local/lib/python3.10/dist-packages (from azureml-core~=1.54.0->azureml-sdk) (2023.3.post1)\n",
            "Collecting backports.tempfile (from azureml-core~=1.54.0->azureml-sdk)\n",
            "  Downloading backports.tempfile-1.0-py2.py3-none-any.whl (4.4 kB)\n",
            "Collecting pathspec<1.0.0 (from azureml-core~=1.54.0->azureml-sdk)\n",
            "  Downloading pathspec-0.12.1-py3-none-any.whl (31 kB)\n",
            "Requirement already satisfied: requests[socks]<3.0.0,>=2.19.1 in /usr/local/lib/python3.10/dist-packages (from azureml-core~=1.54.0->azureml-sdk) (2.31.0)\n",
            "Collecting msal<2.0.0,>=1.15.0 (from azureml-core~=1.54.0->azureml-sdk)\n",
            "  Downloading msal-1.26.0-py2.py3-none-any.whl (99 kB)\n",
            "\u001b[2K     \u001b[90m━━━━━━━━━━━━━━━━━━━━━━━━━━━━━━━━━━━━━━━━\u001b[0m \u001b[32m99.0/99.0 kB\u001b[0m \u001b[31m10.3 MB/s\u001b[0m eta \u001b[36m0:00:00\u001b[0m\n",
            "\u001b[?25hCollecting msal-extensions<=1.0.0,>=0.3.0 (from azureml-core~=1.54.0->azureml-sdk)\n",
            "  Downloading msal_extensions-1.0.0-py2.py3-none-any.whl (19 kB)\n",
            "Collecting knack<0.12.0 (from azureml-core~=1.54.0->azureml-sdk)\n",
            "  Downloading knack-0.11.0-py3-none-any.whl (60 kB)\n",
            "\u001b[2K     \u001b[90m━━━━━━━━━━━━━━━━━━━━━━━━━━━━━━━━━━━━━━━━\u001b[0m \u001b[32m60.8/60.8 kB\u001b[0m \u001b[31m6.3 MB/s\u001b[0m eta \u001b[36m0:00:00\u001b[0m\n",
            "\u001b[?25hRequirement already satisfied: azure-core<2.0.0 in /usr/local/lib/python3.10/dist-packages (from azureml-core~=1.54.0->azureml-sdk) (1.21.1)\n",
            "Collecting pkginfo (from azureml-core~=1.54.0->azureml-sdk)\n",
            "  Downloading pkginfo-1.9.6-py3-none-any.whl (30 kB)\n",
            "Collecting argcomplete<4 (from azureml-core~=1.54.0->azureml-sdk)\n",
            "  Downloading argcomplete-3.2.1-py3-none-any.whl (42 kB)\n",
            "\u001b[2K     \u001b[90m━━━━━━━━━━━━━━━━━━━━━━━━━━━━━━━━━━━━━━━━\u001b[0m \u001b[32m42.3/42.3 kB\u001b[0m \u001b[31m3.7 MB/s\u001b[0m eta \u001b[36m0:00:00\u001b[0m\n",
            "\u001b[?25hCollecting humanfriendly<11.0,>=4.7 (from azureml-core~=1.54.0->azureml-sdk)\n",
            "  Downloading humanfriendly-10.0-py2.py3-none-any.whl (86 kB)\n",
            "\u001b[2K     \u001b[90m━━━━━━━━━━━━━━━━━━━━━━━━━━━━━━━━━━━━━━━━\u001b[0m \u001b[32m86.8/86.8 kB\u001b[0m \u001b[31m9.3 MB/s\u001b[0m eta \u001b[36m0:00:00\u001b[0m\n",
            "\u001b[?25hCollecting paramiko<4.0.0,>=2.0.8 (from azureml-core~=1.54.0->azureml-sdk)\n",
            "  Downloading paramiko-3.4.0-py3-none-any.whl (225 kB)\n",
            "\u001b[2K     \u001b[90m━━━━━━━━━━━━━━━━━━━━━━━━━━━━━━━━━━━━━━━━\u001b[0m \u001b[32m225.9/225.9 kB\u001b[0m \u001b[31m17.4 MB/s\u001b[0m eta \u001b[36m0:00:00\u001b[0m\n",
            "\u001b[?25hCollecting azure-mgmt-resource<=24.0.0,>=15.0.0 (from azureml-core~=1.54.0->azureml-sdk)\n",
            "  Downloading azure_mgmt_resource-23.0.1-py3-none-any.whl (2.5 MB)\n",
            "\u001b[2K     \u001b[90m━━━━━━━━━━━━━━━━━━━━━━━━━━━━━━━━━━━━━━━━\u001b[0m \u001b[32m2.5/2.5 MB\u001b[0m \u001b[31m42.9 MB/s\u001b[0m eta \u001b[36m0:00:00\u001b[0m\n",
            "\u001b[?25hCollecting azure-mgmt-containerregistry<11,>=8.2.0 (from azureml-core~=1.54.0->azureml-sdk)\n",
            "  Downloading azure_mgmt_containerregistry-10.3.0-py3-none-any.whl (2.3 MB)\n",
            "\u001b[2K     \u001b[90m━━━━━━━━━━━━━━━━━━━━━━━━━━━━━━━━━━━━━━━━\u001b[0m \u001b[32m2.3/2.3 MB\u001b[0m \u001b[31m33.2 MB/s\u001b[0m eta \u001b[36m0:00:00\u001b[0m\n",
            "\u001b[?25hCollecting azure-mgmt-storage<=22.0.0,>=16.0.0 (from azureml-core~=1.54.0->azureml-sdk)\n",
            "  Downloading azure_mgmt_storage-21.1.0-py3-none-any.whl (3.0 MB)\n",
            "\u001b[2K     \u001b[90m━━━━━━━━━━━━━━━━━━━━━━━━━━━━━━━━━━━━━━━━\u001b[0m \u001b[32m3.0/3.0 MB\u001b[0m \u001b[31m21.3 MB/s\u001b[0m eta \u001b[36m0:00:00\u001b[0m\n",
            "\u001b[?25hCollecting azure-mgmt-keyvault<11.0.0,>=0.40.0 (from azureml-core~=1.54.0->azureml-sdk)\n",
            "  Downloading azure_mgmt_keyvault-10.3.0-py3-none-any.whl (933 kB)\n",
            "\u001b[2K     \u001b[90m━━━━━━━━━━━━━━━━━━━━━━━━━━━━━━━━━━━━━━━━\u001b[0m \u001b[32m933.0/933.0 kB\u001b[0m \u001b[31m49.4 MB/s\u001b[0m eta \u001b[36m0:00:00\u001b[0m\n",
            "\u001b[?25hCollecting azure-mgmt-authorization<5,>=0.40.0 (from azureml-core~=1.54.0->azureml-sdk)\n",
            "  Downloading azure_mgmt_authorization-4.0.0-py3-none-any.whl (1.1 MB)\n",
            "\u001b[2K     \u001b[90m━━━━━━━━━━━━━━━━━━━━━━━━━━━━━━━━━━━━━━━━\u001b[0m \u001b[32m1.1/1.1 MB\u001b[0m \u001b[31m49.8 MB/s\u001b[0m eta \u001b[36m0:00:00\u001b[0m\n",
            "\u001b[?25hCollecting azure-mgmt-network==25.1.0 (from azureml-core~=1.54.0->azureml-sdk)\n",
            "  Downloading azure_mgmt_network-25.1.0-py3-none-any.whl (656 kB)\n",
            "\u001b[2K     \u001b[90m━━━━━━━━━━━━━━━━━━━━━━━━━━━━━━━━━━━━━━━━\u001b[0m \u001b[32m656.6/656.6 kB\u001b[0m \u001b[31m33.7 MB/s\u001b[0m eta \u001b[36m0:00:00\u001b[0m\n",
            "\u001b[?25hCollecting azure-graphrbac<1.0.0,>=0.40.0 (from azureml-core~=1.54.0->azureml-sdk)\n",
            "  Downloading azure_graphrbac-0.61.1-py2.py3-none-any.whl (141 kB)\n",
            "\u001b[2K     \u001b[90m━━━━━━━━━━━━━━━━━━━━━━━━━━━━━━━━━━━━━━━━\u001b[0m \u001b[32m141.4/141.4 kB\u001b[0m \u001b[31m6.4 MB/s\u001b[0m eta \u001b[36m0:00:00\u001b[0m\n",
            "\u001b[?25hCollecting azure-common<2.0.0,>=1.1.12 (from azureml-core~=1.54.0->azureml-sdk)\n",
            "  Downloading azure_common-1.1.28-py2.py3-none-any.whl (14 kB)\n",
            "Collecting msrest<=0.7.1,>=0.5.1 (from azureml-core~=1.54.0->azureml-sdk)\n",
            "  Downloading msrest-0.7.1-py3-none-any.whl (85 kB)\n",
            "\u001b[2K     \u001b[90m━━━━━━━━━━━━━━━━━━━━━━━━━━━━━━━━━━━━━━━━\u001b[0m \u001b[32m85.4/85.4 kB\u001b[0m \u001b[31m9.1 MB/s\u001b[0m eta \u001b[36m0:00:00\u001b[0m\n",
            "\u001b[?25hCollecting msrestazure<=0.6.4,>=0.4.33 (from azureml-core~=1.54.0->azureml-sdk)\n",
            "  Downloading msrestazure-0.6.4-py2.py3-none-any.whl (40 kB)\n",
            "\u001b[2K     \u001b[90m━━━━━━━━━━━━━━━━━━━━━━━━━━━━━━━━━━━━━━━━\u001b[0m \u001b[32m40.5/40.5 kB\u001b[0m \u001b[31m3.4 MB/s\u001b[0m eta \u001b[36m0:00:00\u001b[0m\n",
            "\u001b[?25hRequirement already satisfied: urllib3<3.0.0,>1.26.17 in /usr/local/lib/python3.10/dist-packages (from azureml-core~=1.54.0->azureml-sdk) (2.0.7)\n",
            "Requirement already satisfied: packaging<=24.0,>=20.0 in /usr/local/lib/python3.10/dist-packages (from azureml-core~=1.54.0->azureml-sdk) (23.2)\n",
            "Requirement already satisfied: python-dateutil<3.0.0,>=2.7.3 in /usr/local/lib/python3.10/dist-packages (from azureml-core~=1.54.0->azureml-sdk) (2.8.2)\n",
            "Collecting ndg-httpsclient<=0.5.1 (from azureml-core~=1.54.0->azureml-sdk)\n",
            "  Downloading ndg_httpsclient-0.5.1-py3-none-any.whl (34 kB)\n",
            "Requirement already satisfied: SecretStorage<4.0.0 in /usr/lib/python3/dist-packages (from azureml-core~=1.54.0->azureml-sdk) (3.3.1)\n",
            "Requirement already satisfied: jsonpickle<4.0.0 in /usr/local/lib/python3.10/dist-packages (from azureml-core~=1.54.0->azureml-sdk) (3.0.2)\n",
            "Requirement already satisfied: contextlib2<22.0.0 in /usr/local/lib/python3.10/dist-packages (from azureml-core~=1.54.0->azureml-sdk) (21.6.0)\n",
            "Requirement already satisfied: docker<7.0.0 in /usr/local/lib/python3.10/dist-packages (from azureml-core~=1.54.0->azureml-sdk) (6.1.3)\n",
            "Requirement already satisfied: PyJWT<3.0.0 in /usr/lib/python3/dist-packages (from azureml-core~=1.54.0->azureml-sdk) (2.3.0)\n",
            "Collecting adal<=1.2.7,>=1.2.0 (from azureml-core~=1.54.0->azureml-sdk)\n",
            "  Downloading adal-1.2.7-py2.py3-none-any.whl (55 kB)\n",
            "\u001b[2K     \u001b[90m━━━━━━━━━━━━━━━━━━━━━━━━━━━━━━━━━━━━━━━━\u001b[0m \u001b[32m55.5/55.5 kB\u001b[0m \u001b[31m3.4 MB/s\u001b[0m eta \u001b[36m0:00:00\u001b[0m\n",
            "\u001b[?25hRequirement already satisfied: pyopenssl<24.0.0 in /usr/local/lib/python3.10/dist-packages (from azureml-core~=1.54.0->azureml-sdk) (23.3.0)\n",
            "Collecting jmespath<2.0.0 (from azureml-core~=1.54.0->azureml-sdk)\n",
            "  Downloading jmespath-1.0.1-py3-none-any.whl (20 kB)\n",
            "Collecting isodate<1.0.0,>=0.6.1 (from azure-mgmt-network==25.1.0->azureml-core~=1.54.0->azureml-sdk)\n",
            "  Downloading isodate-0.6.1-py2.py3-none-any.whl (41 kB)\n",
            "\u001b[2K     \u001b[90m━━━━━━━━━━━━━━━━━━━━━━━━━━━━━━━━━━━━━━━━\u001b[0m \u001b[32m41.7/41.7 kB\u001b[0m \u001b[31m4.6 MB/s\u001b[0m eta \u001b[36m0:00:00\u001b[0m\n",
            "\u001b[?25hCollecting azure-mgmt-core<2.0.0,>=1.3.2 (from azure-mgmt-network==25.1.0->azureml-core~=1.54.0->azureml-sdk)\n",
            "  Downloading azure_mgmt_core-1.4.0-py3-none-any.whl (27 kB)\n",
            "Collecting azureml-dataprep<4.14.0a,>=4.12.0a (from azureml-dataset-runtime[fuse]~=1.54.0->azureml-sdk)\n",
            "  Downloading azureml_dataprep-4.12.8-py3-none-any.whl (38.2 MB)\n",
            "\u001b[2K     \u001b[90m━━━━━━━━━━━━━━━━━━━━━━━━━━━━━━━━━━━━━━━━\u001b[0m \u001b[32m38.2/38.2 MB\u001b[0m \u001b[31m13.7 MB/s\u001b[0m eta \u001b[36m0:00:00\u001b[0m\n",
            "\u001b[?25hRequirement already satisfied: pyarrow>=0.17.0 in /usr/local/lib/python3.10/dist-packages (from azureml-dataset-runtime[fuse]~=1.54.0->azureml-sdk) (10.0.1)\n",
            "Requirement already satisfied: numpy!=1.19.3,<1.24 in /usr/local/lib/python3.10/dist-packages (from azureml-dataset-runtime[fuse]~=1.54.0->azureml-sdk) (1.23.5)\n",
            "Collecting fusepy<4.0.0,>=3.0.1 (from azureml-dataset-runtime[fuse]~=1.54.0->azureml-sdk)\n",
            "  Downloading fusepy-3.0.1.tar.gz (11 kB)\n",
            "  Preparing metadata (setup.py) ... \u001b[?25l\u001b[?25hdone\n",
            "Collecting azureml-pipeline-core~=1.54.0 (from azureml-pipeline~=1.54.0->azureml-sdk)\n",
            "  Downloading azureml_pipeline_core-1.54.0-py3-none-any.whl (313 kB)\n",
            "\u001b[2K     \u001b[90m━━━━━━━━━━━━━━━━━━━━━━━━━━━━━━━━━━━━━━━━\u001b[0m \u001b[32m313.7/313.7 kB\u001b[0m \u001b[31m17.0 MB/s\u001b[0m eta \u001b[36m0:00:00\u001b[0m\n",
            "\u001b[?25hCollecting azureml-pipeline-steps~=1.54.0 (from azureml-pipeline~=1.54.0->azureml-sdk)\n",
            "  Downloading azureml_pipeline_steps-1.54.0-py3-none-any.whl (69 kB)\n",
            "\u001b[2K     \u001b[90m━━━━━━━━━━━━━━━━━━━━━━━━━━━━━━━━━━━━━━━━\u001b[0m \u001b[32m69.6/69.6 kB\u001b[0m \u001b[31m4.9 MB/s\u001b[0m eta \u001b[36m0:00:00\u001b[0m\n",
            "\u001b[?25hCollecting azureml-automl-core~=1.54.0 (from azureml-train-automl-client~=1.54.0->azureml-sdk)\n",
            "  Downloading azureml_automl_core-1.54.0-py3-none-any.whl (248 kB)\n",
            "\u001b[2K     \u001b[90m━━━━━━━━━━━━━━━━━━━━━━━━━━━━━━━━━━━━━━━━\u001b[0m \u001b[32m248.8/248.8 kB\u001b[0m \u001b[31m10.8 MB/s\u001b[0m eta \u001b[36m0:00:00\u001b[0m\n",
            "\u001b[?25hCollecting azureml-telemetry~=1.54.0 (from azureml-train-automl-client~=1.54.0->azureml-sdk)\n",
            "  Downloading azureml_telemetry-1.54.0-py3-none-any.whl (30 kB)\n",
            "Collecting azureml-train-restclients-hyperdrive~=1.54.0 (from azureml-train-core~=1.54.0->azureml-sdk)\n",
            "  Downloading azureml_train_restclients_hyperdrive-1.54.0-py3-none-any.whl (18 kB)\n",
            "Requirement already satisfied: cryptography>=1.1.0 in /usr/local/lib/python3.10/dist-packages (from adal<=1.2.7,>=1.2.0->azureml-core~=1.54.0->azureml-sdk) (41.0.7)\n",
            "Requirement already satisfied: six>=1.11.0 in /usr/local/lib/python3.10/dist-packages (from azure-core<2.0.0->azureml-core~=1.54.0->azureml-sdk) (1.16.0)\n",
            "Collecting dotnetcore2<4.0.0,>=3.0.0 (from azureml-dataprep<4.14.0a,>=4.12.0a->azureml-dataset-runtime[fuse]~=1.54.0->azureml-sdk)\n",
            "  Downloading dotnetcore2-3.1.23-py3-none-manylinux1_x86_64.whl (31.1 MB)\n",
            "\u001b[2K     \u001b[90m━━━━━━━━━━━━━━━━━━━━━━━━━━━━━━━━━━━━━━━━\u001b[0m \u001b[32m31.1/31.1 MB\u001b[0m \u001b[31m24.3 MB/s\u001b[0m eta \u001b[36m0:00:00\u001b[0m\n",
            "\u001b[?25hCollecting azureml-dataprep-native<39.0.0,>=38.0.0 (from azureml-dataprep<4.14.0a,>=4.12.0a->azureml-dataset-runtime[fuse]~=1.54.0->azureml-sdk)\n",
            "  Downloading azureml_dataprep_native-38.0.0-cp310-cp310-manylinux1_x86_64.whl (191 kB)\n",
            "\u001b[2K     \u001b[90m━━━━━━━━━━━━━━━━━━━━━━━━━━━━━━━━━━━━━━━━\u001b[0m \u001b[32m191.7/191.7 kB\u001b[0m \u001b[31m19.6 MB/s\u001b[0m eta \u001b[36m0:00:00\u001b[0m\n",
            "\u001b[?25hCollecting azureml-dataprep-rslex~=2.19.6dev0 (from azureml-dataprep<4.14.0a,>=4.12.0a->azureml-dataset-runtime[fuse]~=1.54.0->azureml-sdk)\n",
            "  Downloading azureml_dataprep_rslex-2.19.6-cp310-cp310-manylinux_2_17_x86_64.manylinux2014_x86_64.whl (23.5 MB)\n",
            "\u001b[2K     \u001b[90m━━━━━━━━━━━━━━━━━━━━━━━━━━━━━━━━━━━━━━━━\u001b[0m \u001b[32m23.5/23.5 MB\u001b[0m \u001b[31m38.7 MB/s\u001b[0m eta \u001b[36m0:00:00\u001b[0m\n",
            "\u001b[?25hRequirement already satisfied: cloudpickle<3.0.0,>=1.1.0 in /usr/local/lib/python3.10/dist-packages (from azureml-dataprep<4.14.0a,>=4.12.0a->azureml-dataset-runtime[fuse]~=1.54.0->azureml-sdk) (2.2.1)\n",
            "Collecting azure-identity>=1.7.0 (from azureml-dataprep<4.14.0a,>=4.12.0a->azureml-dataset-runtime[fuse]~=1.54.0->azureml-sdk)\n",
            "  Downloading azure_identity-1.15.0-py3-none-any.whl (164 kB)\n",
            "\u001b[2K     \u001b[90m━━━━━━━━━━━━━━━━━━━━━━━━━━━━━━━━━━━━━━━━\u001b[0m \u001b[32m164.7/164.7 kB\u001b[0m \u001b[31m18.0 MB/s\u001b[0m eta \u001b[36m0:00:00\u001b[0m\n",
            "\u001b[?25hRequirement already satisfied: jsonschema in /usr/local/lib/python3.10/dist-packages (from azureml-dataprep<4.14.0a,>=4.12.0a->azureml-dataset-runtime[fuse]~=1.54.0->azureml-sdk) (4.19.2)\n",
            "Requirement already satisfied: pyyaml<7.0.0,>=5.1.0 in /usr/local/lib/python3.10/dist-packages (from azureml-dataprep<4.14.0a,>=4.12.0a->azureml-dataset-runtime[fuse]~=1.54.0->azureml-sdk) (6.0.1)\n",
            "Collecting applicationinsights (from azureml-telemetry~=1.54.0->azureml-train-automl-client~=1.54.0->azureml-sdk)\n",
            "  Downloading applicationinsights-0.11.10-py2.py3-none-any.whl (55 kB)\n",
            "\u001b[2K     \u001b[90m━━━━━━━━━━━━━━━━━━━━━━━━━━━━━━━━━━━━━━━━\u001b[0m \u001b[32m55.1/55.1 kB\u001b[0m \u001b[31m7.1 MB/s\u001b[0m eta \u001b[36m0:00:00\u001b[0m\n",
            "\u001b[?25hRequirement already satisfied: websocket-client>=0.32.0 in /usr/local/lib/python3.10/dist-packages (from docker<7.0.0->azureml-core~=1.54.0->azureml-sdk) (1.7.0)\n",
            "Requirement already satisfied: pygments in /usr/local/lib/python3.10/dist-packages (from knack<0.12.0->azureml-core~=1.54.0->azureml-sdk) (2.16.1)\n",
            "Requirement already satisfied: tabulate in /usr/local/lib/python3.10/dist-packages (from knack<0.12.0->azureml-core~=1.54.0->azureml-sdk) (0.9.0)\n",
            "Collecting portalocker<3,>=1.0 (from msal-extensions<=1.0.0,>=0.3.0->azureml-core~=1.54.0->azureml-sdk)\n",
            "  Downloading portalocker-2.8.2-py3-none-any.whl (17 kB)\n",
            "Collecting azure-core<2.0.0 (from azureml-core~=1.54.0->azureml-sdk)\n",
            "  Downloading azure_core-1.29.6-py3-none-any.whl (192 kB)\n",
            "\u001b[2K     \u001b[90m━━━━━━━━━━━━━━━━━━━━━━━━━━━━━━━━━━━━━━━━\u001b[0m \u001b[32m192.5/192.5 kB\u001b[0m \u001b[31m19.6 MB/s\u001b[0m eta \u001b[36m0:00:00\u001b[0m\n",
            "\u001b[?25hRequirement already satisfied: certifi>=2017.4.17 in /usr/local/lib/python3.10/dist-packages (from msrest<=0.7.1,>=0.5.1->azureml-core~=1.54.0->azureml-sdk) (2023.11.17)\n",
            "Requirement already satisfied: requests-oauthlib>=0.5.0 in /usr/local/lib/python3.10/dist-packages (from msrest<=0.7.1,>=0.5.1->azureml-core~=1.54.0->azureml-sdk) (1.3.1)\n",
            "Requirement already satisfied: anyio<5.0,>=3.0 in /usr/local/lib/python3.10/dist-packages (from azure-core<2.0.0->azureml-core~=1.54.0->azureml-sdk) (3.7.1)\n",
            "Collecting typing-extensions>=4.6.0 (from azure-core<2.0.0->azureml-core~=1.54.0->azureml-sdk)\n",
            "  Downloading typing_extensions-4.9.0-py3-none-any.whl (32 kB)\n",
            "Requirement already satisfied: pyasn1>=0.1.1 in /usr/local/lib/python3.10/dist-packages (from ndg-httpsclient<=0.5.1->azureml-core~=1.54.0->azureml-sdk) (0.5.1)\n",
            "Collecting bcrypt>=3.2 (from paramiko<4.0.0,>=2.0.8->azureml-core~=1.54.0->azureml-sdk)\n",
            "  Downloading bcrypt-4.1.2-cp39-abi3-manylinux_2_28_x86_64.whl (698 kB)\n",
            "\u001b[2K     \u001b[90m━━━━━━━━━━━━━━━━━━━━━━━━━━━━━━━━━━━━━━━━\u001b[0m \u001b[32m698.9/698.9 kB\u001b[0m \u001b[31m39.9 MB/s\u001b[0m eta \u001b[36m0:00:00\u001b[0m\n",
            "\u001b[?25hCollecting pynacl>=1.5 (from paramiko<4.0.0,>=2.0.8->azureml-core~=1.54.0->azureml-sdk)\n",
            "  Downloading PyNaCl-1.5.0-cp36-abi3-manylinux_2_17_x86_64.manylinux2014_x86_64.manylinux_2_24_x86_64.whl (856 kB)\n",
            "\u001b[2K     \u001b[90m━━━━━━━━━━━━━━━━━━━━━━━━━━━━━━━━━━━━━━━━\u001b[0m \u001b[32m856.7/856.7 kB\u001b[0m \u001b[31m54.8 MB/s\u001b[0m eta \u001b[36m0:00:00\u001b[0m\n",
            "\u001b[?25hRequirement already satisfied: charset-normalizer<4,>=2 in /usr/local/lib/python3.10/dist-packages (from requests[socks]<3.0.0,>=2.19.1->azureml-core~=1.54.0->azureml-sdk) (3.3.2)\n",
            "Requirement already satisfied: idna<4,>=2.5 in /usr/local/lib/python3.10/dist-packages (from requests[socks]<3.0.0,>=2.19.1->azureml-core~=1.54.0->azureml-sdk) (3.6)\n",
            "Requirement already satisfied: PySocks!=1.5.7,>=1.5.6 in /usr/local/lib/python3.10/dist-packages (from requests[socks]<3.0.0,>=2.19.1->azureml-core~=1.54.0->azureml-sdk) (1.7.1)\n",
            "Collecting backports.weakref (from backports.tempfile->azureml-core~=1.54.0->azureml-sdk)\n",
            "  Downloading backports.weakref-1.0.post1-py2.py3-none-any.whl (5.2 kB)\n",
            "Requirement already satisfied: sniffio>=1.1 in /usr/local/lib/python3.10/dist-packages (from anyio<5.0,>=3.0->azure-core<2.0.0->azureml-core~=1.54.0->azureml-sdk) (1.3.0)\n",
            "Requirement already satisfied: exceptiongroup in /usr/local/lib/python3.10/dist-packages (from anyio<5.0,>=3.0->azure-core<2.0.0->azureml-core~=1.54.0->azureml-sdk) (1.2.0)\n",
            "Requirement already satisfied: cffi>=1.12 in /usr/local/lib/python3.10/dist-packages (from cryptography>=1.1.0->adal<=1.2.7,>=1.2.0->azureml-core~=1.54.0->azureml-sdk) (1.16.0)\n",
            "Requirement already satisfied: distro>=1.2.0 in /usr/lib/python3/dist-packages (from dotnetcore2<4.0.0,>=3.0.0->azureml-dataprep<4.14.0a,>=4.12.0a->azureml-dataset-runtime[fuse]~=1.54.0->azureml-sdk) (1.7.0)\n",
            "Requirement already satisfied: oauthlib>=3.0.0 in /usr/local/lib/python3.10/dist-packages (from requests-oauthlib>=0.5.0->msrest<=0.7.1,>=0.5.1->azureml-core~=1.54.0->azureml-sdk) (3.2.2)\n",
            "Requirement already satisfied: attrs>=22.2.0 in /usr/local/lib/python3.10/dist-packages (from jsonschema->azureml-dataprep<4.14.0a,>=4.12.0a->azureml-dataset-runtime[fuse]~=1.54.0->azureml-sdk) (23.1.0)\n",
            "Requirement already satisfied: jsonschema-specifications>=2023.03.6 in /usr/local/lib/python3.10/dist-packages (from jsonschema->azureml-dataprep<4.14.0a,>=4.12.0a->azureml-dataset-runtime[fuse]~=1.54.0->azureml-sdk) (2023.11.2)\n",
            "Requirement already satisfied: referencing>=0.28.4 in /usr/local/lib/python3.10/dist-packages (from jsonschema->azureml-dataprep<4.14.0a,>=4.12.0a->azureml-dataset-runtime[fuse]~=1.54.0->azureml-sdk) (0.32.0)\n",
            "Requirement already satisfied: rpds-py>=0.7.1 in /usr/local/lib/python3.10/dist-packages (from jsonschema->azureml-dataprep<4.14.0a,>=4.12.0a->azureml-dataset-runtime[fuse]~=1.54.0->azureml-sdk) (0.15.2)\n",
            "Requirement already satisfied: pycparser in /usr/local/lib/python3.10/dist-packages (from cffi>=1.12->cryptography>=1.1.0->adal<=1.2.7,>=1.2.0->azureml-core~=1.54.0->azureml-sdk) (2.21)\n",
            "Building wheels for collected packages: fusepy\n",
            "  Building wheel for fusepy (setup.py) ... \u001b[?25l\u001b[?25hdone\n",
            "  Created wheel for fusepy: filename=fusepy-3.0.1-py3-none-any.whl size=10487 sha256=81106039f4bf291d628fc7a998490f51918848f4b8edd1fb56ccde4a91049aa4\n",
            "  Stored in directory: /root/.cache/pip/wheels/c0/18/f6/f0d6be9d0435e2677ce5cc758e91da50053dce456a346f08c5\n",
            "Successfully built fusepy\n",
            "Installing collected packages: fusepy, backports.weakref, azureml-dataprep-rslex, azureml-dataprep-native, azure-common, applicationinsights, typing-extensions, portalocker, pkginfo, pathspec, jmespath, isodate, humanfriendly, dotnetcore2, bcrypt, backports.tempfile, argcomplete, pynacl, knack, azure-core, paramiko, msrest, azure-mgmt-core, adal, ndg-httpsclient, msrestazure, msal, azure-mgmt-storage, azure-mgmt-resource, azure-mgmt-network, azure-mgmt-keyvault, azure-mgmt-containerregistry, azure-mgmt-authorization, msal-extensions, azureml-train-restclients-hyperdrive, azure-graphrbac, azureml-core, azure-identity, azureml-telemetry, azureml-pipeline-core, azureml-dataprep, azureml-train-core, azureml-dataset-runtime, azureml-automl-core, azureml-train-automl-client, azureml-pipeline-steps, azureml-pipeline, azureml-sdk\n",
            "  Attempting uninstall: typing-extensions\n",
            "    Found existing installation: typing_extensions 4.5.0\n",
            "    Uninstalling typing_extensions-4.5.0:\n",
            "      Successfully uninstalled typing_extensions-4.5.0\n",
            "  Attempting uninstall: azure-core\n",
            "    Found existing installation: azure-core 1.21.1\n",
            "    Uninstalling azure-core-1.21.1:\n",
            "      Successfully uninstalled azure-core-1.21.1\n",
            "\u001b[31mERROR: pip's dependency resolver does not currently take into account all the packages that are installed. This behaviour is the source of the following dependency conflicts.\n",
            "tensorflow-probability 0.22.0 requires typing-extensions<4.6.0, but you have typing-extensions 4.9.0 which is incompatible.\u001b[0m\u001b[31m\n",
            "\u001b[0mSuccessfully installed adal-1.2.7 applicationinsights-0.11.10 argcomplete-3.2.1 azure-common-1.1.28 azure-core-1.29.6 azure-graphrbac-0.61.1 azure-identity-1.15.0 azure-mgmt-authorization-4.0.0 azure-mgmt-containerregistry-10.3.0 azure-mgmt-core-1.4.0 azure-mgmt-keyvault-10.3.0 azure-mgmt-network-25.1.0 azure-mgmt-resource-23.0.1 azure-mgmt-storage-21.1.0 azureml-automl-core-1.54.0 azureml-core-1.54.0.post1 azureml-dataprep-4.12.8 azureml-dataprep-native-38.0.0 azureml-dataprep-rslex-2.19.6 azureml-dataset-runtime-1.54.0.post1 azureml-pipeline-1.54.0 azureml-pipeline-core-1.54.0 azureml-pipeline-steps-1.54.0 azureml-sdk-1.54.0 azureml-telemetry-1.54.0 azureml-train-automl-client-1.54.0.post1 azureml-train-core-1.54.0 azureml-train-restclients-hyperdrive-1.54.0 backports.tempfile-1.0 backports.weakref-1.0.post1 bcrypt-4.1.2 dotnetcore2-3.1.23 fusepy-3.0.1 humanfriendly-10.0 isodate-0.6.1 jmespath-1.0.1 knack-0.11.0 msal-1.26.0 msal-extensions-1.0.0 msrest-0.7.1 msrestazure-0.6.4 ndg-httpsclient-0.5.1 paramiko-3.4.0 pathspec-0.12.1 pkginfo-1.9.6 portalocker-2.8.2 pynacl-1.5.0 typing-extensions-4.9.0\n"
          ]
        }
      ],
      "source": [
        "pip install --upgrade azureml-sdk"
      ]
    },
    {
      "cell_type": "code",
      "execution_count": null,
      "id": "38bf7461",
      "metadata": {
        "id": "38bf7461",
        "outputId": "266e6ab4-e5c3-4e80-a8d1-bb909c19e45c"
      },
      "outputs": [
        {
          "name": "stdout",
          "output_type": "stream",
          "text": [
            "\f\n"
          ]
        }
      ],
      "source": [
        "%clear history"
      ]
    },
    {
      "cell_type": "code",
      "execution_count": 2,
      "id": "27ca9426",
      "metadata": {
        "id": "27ca9426"
      },
      "outputs": [],
      "source": [
        "import mlflow\n",
        "from azureml.core import Workspace\n",
        "import pandas as pd\n",
        "import numpy as np\n",
        "from sklearn.ensemble import RandomForestClassifier\n",
        "from sklearn.linear_model import LogisticRegression\n",
        "from sklearn.model_selection import GridSearchCV, train_test_split\n",
        "from sklearn.pipeline import Pipeline\n",
        "from sklearn.preprocessing import FunctionTransformer\n",
        "from sklearn.impute import SimpleImputer"
      ]
    },
    {
      "cell_type": "code",
      "execution_count": 3,
      "id": "8e81d276",
      "metadata": {
        "colab": {
          "base_uri": "https://localhost:8080/"
        },
        "id": "8e81d276",
        "outputId": "c1d2b909-3764-4d60-f0fb-ee0d4e6d5b18"
      },
      "outputs": [
        {
          "name": "stdout",
          "output_type": "stream",
          "text": [
            "2.9.2\n"
          ]
        }
      ],
      "source": [
        "print(mlflow.__version__)\n"
      ]
    },
    {
      "cell_type": "code",
      "execution_count": 4,
      "id": "92c9ae27",
      "metadata": {
        "id": "92c9ae27"
      },
      "outputs": [],
      "source": [
        "import warnings\n",
        "warnings.filterwarnings('ignore')"
      ]
    },
    {
      "cell_type": "markdown",
      "id": "0731e086",
      "metadata": {
        "id": "0731e086"
      },
      "source": [
        "Pour se connecter au workspace Azure machine learning, deux cas se présentent:\n",
        "\n",
        "1. Télecharger le fichier de configuration et appeler le en utilisant ws = Workspace.from_config()\n",
        "\n",
        "![image.png](attachment:image.png)\n",
        "\n",
        "2. Ou bien en entrant manuellement les informations nécessaires, comme indiqué dans la cellule suivante."
      ]
    },
    {
      "cell_type": "code",
      "execution_count": 5,
      "id": "aeca44a8",
      "metadata": {
        "id": "aeca44a8"
      },
      "outputs": [],
      "source": [
        "#ws = Workspace.from_config()\n",
        "subscription_id = '5da4cfa6-e95a-44e7-86f7-d99535671ea2'\n",
        "resource_group = 'Learn_MLOps'\n",
        "workspace_name = 'MLOpsS'\n",
        "workspace_location=\"France Central\"\n",
        "ws = Workspace.create(name = workspace_name,location = workspace_location,resource_group = resource_group,\n",
        "                             subscription_id = subscription_id,exist_ok=True)"
      ]
    },
    {
      "cell_type": "markdown",
      "id": "ea9e2c31",
      "metadata": {
        "id": "ea9e2c31"
      },
      "source": [
        "#### Mettre en place un URI de Tracking des experimentation MLflow sur Azure\n",
        "\n",
        "Nous indiquons à mlflow que l'URI de tracking est celui de mlflow dans azure ML. Toutefois, le lien de tracking de Mlflow dans azure à la forme suivante:\n",
        "\n",
        "azureml://<region>.api.azureml.ms/mlflow/v1.0/subscriptions/<subscription-id>/resourceGroups/<resource-group>/providers/Microsoft.MachineLearningServices/workspaces/<aml-workspace>?"
      ]
    },
    {
      "cell_type": "code",
      "execution_count": 6,
      "id": "36593fba",
      "metadata": {
        "colab": {
          "base_uri": "https://localhost:8080/",
          "height": 1000
        },
        "id": "36593fba",
        "outputId": "f36a9783-2a95-4e32-c75d-388f1e598f5c"
      },
      "outputs": [
        {
          "name": "stdout",
          "output_type": "stream",
          "text": [
            "Requirement already satisfied: azureml-mlflow in c:\\users\\pc\\appdata\\local\\programs\\python\\python39\\lib\\site-packages (1.54.0.post1)\n",
            "Requirement already satisfied: jsonpickle in c:\\users\\pc\\appdata\\local\\programs\\python\\python39\\lib\\site-packages (from azureml-mlflow) (3.0.2)\n",
            "Requirement already satisfied: mlflow-skinny in c:\\users\\pc\\appdata\\local\\programs\\python\\python39\\lib\\site-packages (from azureml-mlflow) (2.9.2)\n",
            "Requirement already satisfied: azure-identity in c:\\users\\pc\\appdata\\local\\programs\\python\\python39\\lib\\site-packages (from azureml-mlflow) (1.15.0)\n",
            "Requirement already satisfied: msrest>=0.6.18 in c:\\users\\pc\\appdata\\local\\programs\\python\\python39\\lib\\site-packages (from azureml-mlflow) (0.7.1)\n",
            "Requirement already satisfied: azure-core!=1.22.0,<2.0.0,>=1.8.0 in c:\\users\\pc\\appdata\\local\\programs\\python\\python39\\lib\\site-packages (from azureml-mlflow) (1.29.6)\n",
            "Requirement already satisfied: azure-mgmt-core<2.0.0,>=1.2.0 in c:\\users\\pc\\appdata\\local\\programs\\python\\python39\\lib\\site-packages (from azureml-mlflow) (1.4.0)\n",
            "Requirement already satisfied: azure-storage-blob<=12.19.0,>=12.5.0 in c:\\users\\pc\\appdata\\local\\programs\\python\\python39\\lib\\site-packages (from azureml-mlflow) (12.19.0)\n",
            "Requirement already satisfied: azure-common<2.0.0,>=1.1 in c:\\users\\pc\\appdata\\local\\programs\\python\\python39\\lib\\site-packages (from azureml-mlflow) (1.1.28)\n",
            "Requirement already satisfied: cryptography in c:\\users\\pc\\appdata\\local\\programs\\python\\python39\\lib\\site-packages (from azureml-mlflow) (41.0.7)\n",
            "Requirement already satisfied: python-dateutil<3.0.0,>=2.7.3 in c:\\users\\pc\\appdata\\roaming\\python\\python39\\site-packages (from azureml-mlflow) (2.8.2)\n",
            "Requirement already satisfied: anyio<5.0,>=3.0 in c:\\users\\pc\\appdata\\local\\programs\\python\\python39\\lib\\site-packages (from azure-core!=1.22.0,<2.0.0,>=1.8.0->azureml-mlflow) (4.2.0)\n",
            "Requirement already satisfied: requests>=2.21.0 in c:\\users\\pc\\appdata\\local\\programs\\python\\python39\\lib\\site-packages (from azure-core!=1.22.0,<2.0.0,>=1.8.0->azureml-mlflow) (2.31.0)\n",
            "Requirement already satisfied: six>=1.11.0 in c:\\users\\pc\\appdata\\roaming\\python\\python39\\site-packages (from azure-core!=1.22.0,<2.0.0,>=1.8.0->azureml-mlflow) (1.16.0)\n",
            "Requirement already satisfied: typing-extensions>=4.6.0 in c:\\users\\pc\\appdata\\roaming\\python\\python39\\site-packages (from azure-core!=1.22.0,<2.0.0,>=1.8.0->azureml-mlflow) (4.8.0)\n",
            "Requirement already satisfied: isodate>=0.6.1 in c:\\users\\pc\\appdata\\local\\programs\\python\\python39\\lib\\site-packages (from azure-storage-blob<=12.19.0,>=12.5.0->azureml-mlflow) (0.6.1)\n",
            "Requirement already satisfied: cffi>=1.12 in c:\\users\\pc\\appdata\\local\\programs\\python\\python39\\lib\\site-packages (from cryptography->azureml-mlflow) (1.16.0)\n",
            "Requirement already satisfied: certifi>=2017.4.17 in c:\\users\\pc\\appdata\\local\\programs\\python\\python39\\lib\\site-packages (from msrest>=0.6.18->azureml-mlflow) (2023.11.17)\n",
            "Requirement already satisfied: requests-oauthlib>=0.5.0 in c:\\users\\pc\\appdata\\local\\programs\\python\\python39\\lib\\site-packages (from msrest>=0.6.18->azureml-mlflow) (1.3.1)\n",
            "Requirement already satisfied: msal<2.0.0,>=1.24.0 in c:\\users\\pc\\appdata\\local\\programs\\python\\python39\\lib\\site-packages (from azure-identity->azureml-mlflow) (1.26.0)\n",
            "Requirement already satisfied: msal-extensions<2.0.0,>=0.3.0 in c:\\users\\pc\\appdata\\local\\programs\\python\\python39\\lib\\site-packages (from azure-identity->azureml-mlflow) (1.0.0)\n",
            "Requirement already satisfied: click<9,>=7.0 in c:\\users\\pc\\appdata\\local\\programs\\python\\python39\\lib\\site-packages (from mlflow-skinny->azureml-mlflow) (8.1.3)\n",
            "Requirement already satisfied: cloudpickle<4 in c:\\users\\pc\\appdata\\local\\programs\\python\\python39\\lib\\site-packages (from mlflow-skinny->azureml-mlflow) (3.0.0)\n",
            "Requirement already satisfied: databricks-cli<1,>=0.8.7 in c:\\users\\pc\\appdata\\local\\programs\\python\\python39\\lib\\site-packages (from mlflow-skinny->azureml-mlflow) (0.18.0)\n",
            "Requirement already satisfied: entrypoints<1 in c:\\users\\pc\\appdata\\local\\programs\\python\\python39\\lib\\site-packages (from mlflow-skinny->azureml-mlflow) (0.4)\n",
            "Requirement already satisfied: gitpython<4,>=2.1.0 in c:\\users\\pc\\appdata\\local\\programs\\python\\python39\\lib\\site-packages (from mlflow-skinny->azureml-mlflow) (3.1.40)\n",
            "Requirement already satisfied: pyyaml<7,>=5.1 in c:\\users\\pc\\appdata\\local\\programs\\python\\python39\\lib\\site-packages (from mlflow-skinny->azureml-mlflow) (6.0.1)\n",
            "Requirement already satisfied: protobuf<5,>=3.12.0 in c:\\users\\pc\\appdata\\local\\programs\\python\\python39\\lib\\site-packages (from mlflow-skinny->azureml-mlflow) (4.25.1)\n",
            "Requirement already satisfied: pytz<2024 in c:\\users\\pc\\appdata\\local\\programs\\python\\python39\\lib\\site-packages (from mlflow-skinny->azureml-mlflow) (2023.3.post1)\n",
            "Requirement already satisfied: packaging<24 in c:\\users\\pc\\appdata\\local\\programs\\python\\python39\\lib\\site-packages (from mlflow-skinny->azureml-mlflow) (23.1)\n",
            "Requirement already satisfied: importlib-metadata!=4.7.0,<8,>=3.7.0 in c:\\users\\pc\\appdata\\local\\programs\\python\\python39\\lib\\site-packages (from mlflow-skinny->azureml-mlflow) (6.6.0)\n",
            "Requirement already satisfied: sqlparse<1,>=0.4.0 in c:\\users\\pc\\appdata\\local\\programs\\python\\python39\\lib\\site-packages (from mlflow-skinny->azureml-mlflow) (0.4.4)\n",
            "Requirement already satisfied: idna>=2.8 in c:\\users\\pc\\appdata\\local\\programs\\python\\python39\\lib\\site-packages (from anyio<5.0,>=3.0->azure-core!=1.22.0,<2.0.0,>=1.8.0->azureml-mlflow) (3.6)\n",
            "Requirement already satisfied: sniffio>=1.1 in c:\\users\\pc\\appdata\\local\\programs\\python\\python39\\lib\\site-packages (from anyio<5.0,>=3.0->azure-core!=1.22.0,<2.0.0,>=1.8.0->azureml-mlflow) (1.3.0)\n",
            "Requirement already satisfied: exceptiongroup>=1.0.2 in c:\\users\\pc\\appdata\\roaming\\python\\python39\\site-packages (from anyio<5.0,>=3.0->azure-core!=1.22.0,<2.0.0,>=1.8.0->azureml-mlflow) (1.1.3)\n",
            "Requirement already satisfied: pycparser in c:\\users\\pc\\appdata\\local\\programs\\python\\python39\\lib\\site-packages (from cffi>=1.12->cryptography->azureml-mlflow) (2.21)\n",
            "Requirement already satisfied: colorama in c:\\users\\pc\\appdata\\local\\programs\\python\\python39\\lib\\site-packages (from click<9,>=7.0->mlflow-skinny->azureml-mlflow) (0.4.6)\n",
            "Requirement already satisfied: pyjwt>=1.7.0 in c:\\users\\pc\\appdata\\local\\programs\\python\\python39\\lib\\site-packages (from databricks-cli<1,>=0.8.7->mlflow-skinny->azureml-mlflow) (2.8.0)\n",
            "Requirement already satisfied: oauthlib>=3.1.0 in c:\\users\\pc\\appdata\\local\\programs\\python\\python39\\lib\\site-packages (from databricks-cli<1,>=0.8.7->mlflow-skinny->azureml-mlflow) (3.2.2)\n",
            "Requirement already satisfied: tabulate>=0.7.7 in c:\\users\\pc\\appdata\\local\\programs\\python\\python39\\lib\\site-packages (from databricks-cli<1,>=0.8.7->mlflow-skinny->azureml-mlflow) (0.9.0)\n",
            "Requirement already satisfied: urllib3<3,>=1.26.7 in c:\\users\\pc\\appdata\\local\\programs\\python\\python39\\lib\\site-packages (from databricks-cli<1,>=0.8.7->mlflow-skinny->azureml-mlflow) (2.1.0)\n",
            "Requirement already satisfied: gitdb<5,>=4.0.1 in c:\\users\\pc\\appdata\\local\\programs\\python\\python39\\lib\\site-packages (from gitpython<4,>=2.1.0->mlflow-skinny->azureml-mlflow) (4.0.11)\n",
            "Requirement already satisfied: zipp>=0.5 in c:\\users\\pc\\appdata\\local\\programs\\python\\python39\\lib\\site-packages (from importlib-metadata!=4.7.0,<8,>=3.7.0->mlflow-skinny->azureml-mlflow) (3.15.0)\n",
            "Requirement already satisfied: portalocker<3,>=1.6 in c:\\users\\pc\\appdata\\local\\programs\\python\\python39\\lib\\site-packages (from msal-extensions<2.0.0,>=0.3.0->azure-identity->azureml-mlflow) (2.8.2)\n",
            "Requirement already satisfied: charset-normalizer<4,>=2 in c:\\users\\pc\\appdata\\local\\programs\\python\\python39\\lib\\site-packages (from requests>=2.21.0->azure-core!=1.22.0,<2.0.0,>=1.8.0->azureml-mlflow) (3.3.2)\n",
            "Requirement already satisfied: smmap<6,>=3.0.1 in c:\\users\\pc\\appdata\\local\\programs\\python\\python39\\lib\\site-packages (from gitdb<5,>=4.0.1->gitpython<4,>=2.1.0->mlflow-skinny->azureml-mlflow) (5.0.1)\n",
            "Requirement already satisfied: pywin32>=226 in c:\\users\\pc\\appdata\\roaming\\python\\python39\\site-packages (from portalocker<3,>=1.6->msal-extensions<2.0.0,>=0.3.0->azure-identity->azureml-mlflow) (306)\n",
            "Note: you may need to restart the kernel to use updated packages.\n"
          ]
        },
        {
          "name": "stderr",
          "output_type": "stream",
          "text": [
            "\n",
            "[notice] A new release of pip is available: 23.2.1 -> 23.3.2\n",
            "[notice] To update, run: python.exe -m pip install --upgrade pip\n"
          ]
        }
      ],
      "source": [
        "pip install azureml-mlflow"
      ]
    },
    {
      "cell_type": "code",
      "execution_count": 7,
      "id": "8703536e",
      "metadata": {
        "colab": {
          "base_uri": "https://localhost:8080/"
        },
        "id": "8703536e",
        "outputId": "1dad9286-5354-455e-abb5-b5a440357488"
      },
      "outputs": [
        {
          "name": "stdout",
          "output_type": "stream",
          "text": [
            "adal==1.2.7\n",
            "alembic==1.13.1\n",
            "anyio==4.2.0\n",
            "applicationinsights==0.11.10\n",
            "argcomplete==3.2.1\n",
            "asttokens==2.4.0\n",
            "azure-common==1.1.28\n",
            "azure-core==1.29.6\n",
            "azure-graphrbac==0.61.1\n",
            "azure-identity==1.15.0\n",
            "azure-mgmt-authorization==4.0.0\n",
            "azure-mgmt-containerregistry==10.3.0\n",
            "azure-mgmt-core==1.4.0\n",
            "azure-mgmt-keyvault==10.3.0\n",
            "azure-mgmt-network==25.1.0\n",
            "azure-mgmt-resource==23.0.1\n",
            "azure-mgmt-storage==21.1.0\n",
            "azure-storage-blob==12.19.0\n",
            "azureml==0.2.7\n",
            "azureml-core==1.54.0.post1\n",
            "azureml-dataprep-native==38.0.0\n",
            "azureml-dataprep-rslex==2.19.6\n",
            "azureml-mlflow==1.54.0.post1\n",
            "backcall==0.2.0\n",
            "backports.tempfile==1.0\n",
            "backports.weakref==1.0.post1\n",
            "bcrypt==4.1.2\n",
            "blinker==1.6.2\n",
            "certifi==2023.11.17\n",
            "cffi==1.16.0\n",
            "charset-normalizer==3.3.2\n",
            "click==8.1.3\n",
            "cloudpickle==3.0.0\n",
            "colorama==0.4.6\n",
            "comm==0.1.4\n",
            "contextlib2==21.6.0\n",
            "contourpy==1.2.0\n",
            "cryptography==41.0.7\n",
            "cycler==0.12.1\n",
            "dash==2.9.3\n",
            "dash-core-components==2.0.0\n",
            "dash-html-components==2.0.0\n",
            "dash-table==5.0.0\n",
            "databricks-cli==0.18.0\n",
            "debugpy==1.8.0\n",
            "decorator==5.1.1\n",
            "docker==6.1.3\n",
            "entrypoints==0.4\n",
            "exceptiongroup==1.1.3\n",
            "executing==2.0.0\n",
            "Flask==2.3.2\n",
            "fonttools==4.47.0\n",
            "fusepy==3.0.1\n",
            "gitdb==4.0.11\n",
            "GitPython==3.1.40\n",
            "greenlet==3.0.3\n",
            "humanfriendly==10.0\n",
            "idna==3.6\n",
            "importlib-metadata==6.6.0\n",
            "importlib-resources==6.1.1\n",
            "ipykernel==6.25.2\n",
            "ipython==8.16.1\n",
            "isodate==0.6.1\n",
            "itsdangerous==2.1.2\n",
            "jedi==0.19.1\n",
            "jeepney==0.8.0\n",
            "Jinja2==3.1.2\n",
            "jmespath==1.0.1\n",
            "joblib==1.3.2\n",
            "jsonpickle==3.0.2\n",
            "jupyter_client==8.3.1\n",
            "jupyter_core==5.3.2\n",
            "kiwisolver==1.4.5\n",
            "knack==0.11.0\n",
            "Mako==1.3.0\n",
            "Markdown==3.5.1\n",
            "MarkupSafe==2.1.2\n",
            "matplotlib==3.8.2\n",
            "matplotlib-inline==0.1.6\n",
            "mlflow==2.9.2\n",
            "mlflow-skinny==2.9.2\n",
            "msal==1.26.0\n",
            "msal-extensions==1.0.0\n",
            "msrest==0.7.1\n",
            "msrestazure==0.6.4\n",
            "mysql-connector-python==8.0.33\n",
            "ndg-httpsclient==0.5.1\n",
            "nest-asyncio==1.5.8\n",
            "numpy==1.23.5\n",
            "oauthlib==3.2.2\n",
            "packaging==23.1\n",
            "pandas==2.1.1\n",
            "paramiko==3.4.0\n",
            "parso==0.8.3\n",
            "pathspec==0.12.1\n",
            "pickleshare==0.7.5\n",
            "pillow==10.2.0\n",
            "pkginfo==1.9.6\n",
            "platformdirs==3.11.0\n",
            "plotly==5.14.1\n",
            "portalocker==2.8.2\n",
            "prompt-toolkit==3.0.39\n",
            "protobuf==4.25.1\n",
            "psutil==5.9.5\n",
            "pure-eval==0.2.2\n",
            "pyarrow==14.0.2\n",
            "pyasn1==0.5.1\n",
            "pycparser==2.21\n",
            "Pygments==2.16.1\n",
            "PyJWT==2.8.0\n",
            "PyNaCl==1.5.0\n",
            "pyOpenSSL==23.3.0\n",
            "pyparsing==3.1.1\n",
            "pyreadline3==3.4.1\n",
            "PySocks==1.7.1\n",
            "python-dateutil==2.8.2\n",
            "pytz==2023.3.post1\n",
            "pywin32==306\n",
            "PyYAML==6.0.1\n",
            "pyzmq==25.1.1\n",
            "querystring-parser==1.2.4\n",
            "requests==2.31.0\n",
            "requests-oauthlib==1.3.1\n",
            "rpds-py==0.16.2\n",
            "scikit-learn==1.3.2\n",
            "scipy==1.11.4\n",
            "SecretStorage==3.3.3\n",
            "six==1.16.0\n",
            "smmap==5.0.1\n",
            "sniffio==1.3.0\n",
            "SQLAlchemy==2.0.25\n",
            "sqlparse==0.4.4\n",
            "stack-data==0.6.3\n",
            "tabulate==0.9.0\n",
            "tenacity==8.2.2\n",
            "threadpoolctl==3.2.0\n",
            "tornado==6.3.3\n",
            "traitlets==5.11.2\n",
            "typing_extensions==4.8.0\n",
            "tzdata==2023.3\n",
            "urllib3==2.1.0\n",
            "waitress==2.1.2\n",
            "wcwidth==0.2.8\n",
            "websocket-client==1.7.0\n",
            "Werkzeug==2.3.4\n",
            "zipp==3.15.0\n",
            "Note: you may need to restart the kernel to use updated packages.\n"
          ]
        }
      ],
      "source": [
        "pip freeze"
      ]
    },
    {
      "cell_type": "code",
      "execution_count": 8,
      "id": "e677210e",
      "metadata": {
        "id": "e677210e"
      },
      "outputs": [],
      "source": [
        "mlflow.set_tracking_uri(ws.get_mlflow_tracking_uri())"
      ]
    },
    {
      "cell_type": "markdown",
      "id": "b31ed4fb",
      "metadata": {
        "id": "b31ed4fb"
      },
      "source": [
        "Nous allons créer une expérimentation Mlflow dont le nom est \"diabetes-sklearn\""
      ]
    },
    {
      "cell_type": "code",
      "execution_count": 9,
      "id": "pKw01f_9L2ah",
      "metadata": {
        "colab": {
          "base_uri": "https://localhost:8080/",
          "height": 372
        },
        "id": "pKw01f_9L2ah",
        "outputId": "f105adae-f4c5-40be-e892-7888a85b46b6"
      },
      "outputs": [
        {
          "name": "stdout",
          "output_type": "stream",
          "text": [
            "Requirement already satisfied: azureml in c:\\users\\pc\\appdata\\local\\programs\\python\\python39\\lib\\site-packages (0.2.7)\n",
            "Requirement already satisfied: pandas in c:\\users\\pc\\appdata\\local\\programs\\python\\python39\\lib\\site-packages (from azureml) (2.1.1)\n",
            "Requirement already satisfied: python-dateutil in c:\\users\\pc\\appdata\\roaming\\python\\python39\\site-packages (from azureml) (2.8.2)\n",
            "Requirement already satisfied: requests in c:\\users\\pc\\appdata\\local\\programs\\python\\python39\\lib\\site-packages (from azureml) (2.31.0)\n",
            "Requirement already satisfied: numpy>=1.22.4 in c:\\users\\pc\\appdata\\local\\programs\\python\\python39\\lib\\site-packages (from pandas->azureml) (1.23.5)\n",
            "Requirement already satisfied: pytz>=2020.1 in c:\\users\\pc\\appdata\\local\\programs\\python\\python39\\lib\\site-packages (from pandas->azureml) (2023.3.post1)\n",
            "Requirement already satisfied: tzdata>=2022.1 in c:\\users\\pc\\appdata\\local\\programs\\python\\python39\\lib\\site-packages (from pandas->azureml) (2023.3)\n",
            "Requirement already satisfied: six>=1.5 in c:\\users\\pc\\appdata\\roaming\\python\\python39\\site-packages (from python-dateutil->azureml) (1.16.0)\n",
            "Requirement already satisfied: charset-normalizer<4,>=2 in c:\\users\\pc\\appdata\\local\\programs\\python\\python39\\lib\\site-packages (from requests->azureml) (3.3.2)\n",
            "Requirement already satisfied: idna<4,>=2.5 in c:\\users\\pc\\appdata\\local\\programs\\python\\python39\\lib\\site-packages (from requests->azureml) (3.6)\n",
            "Requirement already satisfied: urllib3<3,>=1.21.1 in c:\\users\\pc\\appdata\\local\\programs\\python\\python39\\lib\\site-packages (from requests->azureml) (2.1.0)\n",
            "Requirement already satisfied: certifi>=2017.4.17 in c:\\users\\pc\\appdata\\local\\programs\\python\\python39\\lib\\site-packages (from requests->azureml) (2023.11.17)\n",
            "Note: you may need to restart the kernel to use updated packages.\n"
          ]
        },
        {
          "name": "stderr",
          "output_type": "stream",
          "text": [
            "\n",
            "[notice] A new release of pip is available: 23.2.1 -> 23.3.2\n",
            "[notice] To update, run: python.exe -m pip install --upgrade pip\n"
          ]
        }
      ],
      "source": [
        "pip install azureml"
      ]
    },
    {
      "cell_type": "code",
      "execution_count": 10,
      "id": "746e8ca9",
      "metadata": {
        "colab": {
          "base_uri": "https://localhost:8080/"
        },
        "id": "746e8ca9",
        "outputId": "ec23a75c-56b9-4037-b390-9d9562c17bf8"
      },
      "outputs": [
        {
          "data": {
            "text/plain": [
              "<Experiment: artifact_location='', creation_time=1704542408333, experiment_id='c2def11d-b2f1-4564-946b-bfe00d6ec9cc', last_update_time=None, lifecycle_stage='active', name='diabetes-sklearn', tags={}>"
            ]
          },
          "execution_count": 10,
          "metadata": {},
          "output_type": "execute_result"
        }
      ],
      "source": [
        "experiment_name = 'diabetes-sklearn'\n",
        "mlflow.set_experiment(experiment_name)"
      ]
    },
    {
      "cell_type": "markdown",
      "id": "7dd1c714",
      "metadata": {
        "id": "7dd1c714"
      },
      "source": [
        "#### chargement du dataset et traitements necéssaires"
      ]
    },
    {
      "cell_type": "code",
      "execution_count": 11,
      "id": "ecf63818",
      "metadata": {
        "id": "ecf63818"
      },
      "outputs": [],
      "source": [
        "df=pd.read_csv('diabetes.csv')"
      ]
    },
    {
      "cell_type": "code",
      "execution_count": 12,
      "id": "30d49552",
      "metadata": {
        "colab": {
          "base_uri": "https://localhost:8080/"
        },
        "id": "30d49552",
        "outputId": "fab76c47-2d91-4565-e436-6ed8750fcac7"
      },
      "outputs": [
        {
          "data": {
            "text/plain": [
              "(768, 9)"
            ]
          },
          "execution_count": 12,
          "metadata": {},
          "output_type": "execute_result"
        }
      ],
      "source": [
        "df.shape"
      ]
    },
    {
      "cell_type": "code",
      "execution_count": 13,
      "id": "48057c3e",
      "metadata": {
        "colab": {
          "base_uri": "https://localhost:8080/"
        },
        "id": "48057c3e",
        "outputId": "9bafd885-86a2-4f9f-a378-3adac4278248"
      },
      "outputs": [
        {
          "data": {
            "text/plain": [
              "Index(['Pregnancies', 'Glucose', 'BloodPressure', 'SkinThickness', 'Insulin',\n",
              "       'BMI', 'DiabetesPedigreeFunction', 'Age', 'Outcome'],\n",
              "      dtype='object')"
            ]
          },
          "execution_count": 13,
          "metadata": {},
          "output_type": "execute_result"
        }
      ],
      "source": [
        "df.columns"
      ]
    },
    {
      "cell_type": "code",
      "execution_count": 14,
      "id": "192b9447",
      "metadata": {
        "colab": {
          "base_uri": "https://localhost:8080/"
        },
        "id": "192b9447",
        "outputId": "fef2a9f1-47a1-4520-ae97-139c8d1e3e6d"
      },
      "outputs": [
        {
          "name": "stdout",
          "output_type": "stream",
          "text": [
            "<class 'pandas.core.frame.DataFrame'>\n",
            "RangeIndex: 768 entries, 0 to 767\n",
            "Data columns (total 9 columns):\n",
            " #   Column                    Non-Null Count  Dtype  \n",
            "---  ------                    --------------  -----  \n",
            " 0   Pregnancies               768 non-null    int64  \n",
            " 1   Glucose                   768 non-null    int64  \n",
            " 2   BloodPressure             768 non-null    int64  \n",
            " 3   SkinThickness             768 non-null    int64  \n",
            " 4   Insulin                   768 non-null    int64  \n",
            " 5   BMI                       768 non-null    float64\n",
            " 6   DiabetesPedigreeFunction  768 non-null    float64\n",
            " 7   Age                       768 non-null    int64  \n",
            " 8   Outcome                   768 non-null    int64  \n",
            "dtypes: float64(2), int64(7)\n",
            "memory usage: 54.1 KB\n"
          ]
        }
      ],
      "source": [
        "df.info()"
      ]
    },
    {
      "cell_type": "code",
      "execution_count": 15,
      "id": "6453be9f",
      "metadata": {
        "id": "6453be9f"
      },
      "outputs": [],
      "source": [
        "from sklearn.preprocessing import StandardScaler\n",
        "scaler=StandardScaler()\n",
        "df_scaled=scaler.fit_transform(df)"
      ]
    },
    {
      "cell_type": "code",
      "execution_count": 16,
      "id": "339df259",
      "metadata": {
        "colab": {
          "base_uri": "https://localhost:8080/"
        },
        "id": "339df259",
        "outputId": "0493271e-cf09-43e6-e974-21db9ca0a5e1"
      },
      "outputs": [
        {
          "data": {
            "text/plain": [
              "array([[ 0.63994726,  0.84832379,  0.14964075, ...,  0.46849198,\n",
              "         1.4259954 ,  1.36589591],\n",
              "       [-0.84488505, -1.12339636, -0.16054575, ..., -0.36506078,\n",
              "        -0.19067191, -0.73212021],\n",
              "       [ 1.23388019,  1.94372388, -0.26394125, ...,  0.60439732,\n",
              "        -0.10558415,  1.36589591],\n",
              "       ...,\n",
              "       [ 0.3429808 ,  0.00330087,  0.14964075, ..., -0.68519336,\n",
              "        -0.27575966, -0.73212021],\n",
              "       [-0.84488505,  0.1597866 , -0.47073225, ..., -0.37110101,\n",
              "         1.17073215,  1.36589591],\n",
              "       [-0.84488505, -0.8730192 ,  0.04624525, ..., -0.47378505,\n",
              "        -0.87137393, -0.73212021]])"
            ]
          },
          "execution_count": 16,
          "metadata": {},
          "output_type": "execute_result"
        }
      ],
      "source": [
        "df_scaled"
      ]
    },
    {
      "cell_type": "code",
      "execution_count": 17,
      "id": "9569a2e2",
      "metadata": {
        "id": "9569a2e2"
      },
      "outputs": [],
      "source": [
        "x=df.iloc[:,:-1]\n",
        "y=df.iloc[:,-1:]"
      ]
    },
    {
      "cell_type": "code",
      "execution_count": 18,
      "id": "06bde699",
      "metadata": {
        "id": "06bde699"
      },
      "outputs": [],
      "source": [
        "from sklearn.model_selection import train_test_split\n",
        "x_train,x_test,y_train,y_test=train_test_split(x,y,test_size=0.2,random_state=0)"
      ]
    },
    {
      "cell_type": "code",
      "execution_count": 19,
      "id": "0aee00e7",
      "metadata": {
        "colab": {
          "base_uri": "https://localhost:8080/"
        },
        "id": "0aee00e7",
        "outputId": "b2e98009-ceed-40af-da96-4172587af693"
      },
      "outputs": [
        {
          "name": "stdout",
          "output_type": "stream",
          "text": [
            "X_train: (614, 8)\n",
            "X_test: (154, 8)\n",
            "Y_train: (614, 1)\n",
            "Y_test: (154, 1)\n"
          ]
        }
      ],
      "source": [
        "print(\"X_train:\",x_train.shape)\n",
        "print(\"X_test:\",x_test.shape)\n",
        "print(\"Y_train:\",y_train.shape)\n",
        "print(\"Y_test:\",y_test.shape)"
      ]
    },
    {
      "cell_type": "code",
      "execution_count": 20,
      "id": "057cd2c7",
      "metadata": {
        "id": "057cd2c7"
      },
      "outputs": [],
      "source": [
        "rf_clf = RandomForestClassifier()"
      ]
    },
    {
      "cell_type": "markdown",
      "id": "cb84ecfd",
      "metadata": {
        "id": "cb84ecfd"
      },
      "source": [
        "Au lieu d'appeler a chaque fois une fonction de logging (log_metric, log_artifact, ...) nous allons utiliser la fonction autolog() afin de logger toutes les informations relatives au modèle (metrics, parameters, ...)\n",
        "\n",
        "les frameworks suivants supporte la fonction autolog():\n",
        "\n",
        "    Scikit-learn\n",
        "\n",
        "    TensorFlow and Keras\n",
        "\n",
        "    Gluon\n",
        "\n",
        "    XGBoost\n",
        "\n",
        "    LightGBM\n",
        "\n",
        "    Statsmodels\n",
        "\n",
        "    Spark\n",
        "\n",
        "    Fastai\n",
        "\n",
        "    Pytorch\n",
        "\n"
      ]
    },
    {
      "cell_type": "code",
      "execution_count": 21,
      "id": "19c6b933",
      "metadata": {
        "id": "19c6b933"
      },
      "outputs": [],
      "source": [
        "mlflow.sklearn.autolog(max_tuning_runs=None)"
      ]
    },
    {
      "cell_type": "markdown",
      "id": "f0ae734a",
      "metadata": {
        "id": "f0ae734a"
      },
      "source": [
        "#### Hyperparameter tuning\n",
        "\n",
        "Nous alons utiliser l'algorithme GridSearchCV pour trouver les meilleurs paramétres"
      ]
    },
    {
      "cell_type": "code",
      "execution_count": 22,
      "id": "5477c58c",
      "metadata": {
        "id": "5477c58c"
      },
      "outputs": [],
      "source": [
        "param_grid = {'n_estimators': [10,20,30], 'max_depth':[2,7,10]}"
      ]
    },
    {
      "cell_type": "code",
      "execution_count": 23,
      "id": "df7521bb",
      "metadata": {
        "id": "df7521bb"
      },
      "outputs": [],
      "source": [
        "gridcv=GridSearchCV(rf_clf,param_grid=param_grid,scoring = ['roc_auc', 'precision', 'recall', 'f1', 'accuracy'],refit = 'roc_auc',cv=10)"
      ]
    },
    {
      "cell_type": "code",
      "execution_count": 24,
      "id": "d497cd49",
      "metadata": {
        "colab": {
          "base_uri": "https://localhost:8080/"
        },
        "id": "d497cd49",
        "outputId": "49ceb76e-5ba6-4f7d-adc8-e4ab258b5fb3"
      },
      "outputs": [
        {
          "name": "stdout",
          "output_type": "stream",
          "text": [
            "Requirement already satisfied: matplotlib in c:\\users\\pc\\appdata\\local\\programs\\python\\python39\\lib\\site-packages (3.8.2)Note: you may need to restart the kernel to use updated packages.\n",
            "\n",
            "Requirement already satisfied: contourpy>=1.0.1 in c:\\users\\pc\\appdata\\local\\programs\\python\\python39\\lib\\site-packages (from matplotlib) (1.2.0)\n",
            "Requirement already satisfied: cycler>=0.10 in c:\\users\\pc\\appdata\\local\\programs\\python\\python39\\lib\\site-packages (from matplotlib) (0.12.1)\n",
            "Requirement already satisfied: fonttools>=4.22.0 in c:\\users\\pc\\appdata\\local\\programs\\python\\python39\\lib\\site-packages (from matplotlib) (4.47.0)\n",
            "Requirement already satisfied: kiwisolver>=1.3.1 in c:\\users\\pc\\appdata\\local\\programs\\python\\python39\\lib\\site-packages (from matplotlib) (1.4.5)\n",
            "Requirement already satisfied: numpy<2,>=1.21 in c:\\users\\pc\\appdata\\local\\programs\\python\\python39\\lib\\site-packages (from matplotlib) (1.23.5)\n",
            "Requirement already satisfied: packaging>=20.0 in c:\\users\\pc\\appdata\\local\\programs\\python\\python39\\lib\\site-packages (from matplotlib) (23.1)\n",
            "Requirement already satisfied: pillow>=8 in c:\\users\\pc\\appdata\\local\\programs\\python\\python39\\lib\\site-packages (from matplotlib) (10.2.0)\n",
            "Requirement already satisfied: pyparsing>=2.3.1 in c:\\users\\pc\\appdata\\local\\programs\\python\\python39\\lib\\site-packages (from matplotlib) (3.1.1)\n",
            "Requirement already satisfied: python-dateutil>=2.7 in c:\\users\\pc\\appdata\\roaming\\python\\python39\\site-packages (from matplotlib) (2.8.2)\n",
            "Requirement already satisfied: importlib-resources>=3.2.0 in c:\\users\\pc\\appdata\\local\\programs\\python\\python39\\lib\\site-packages (from matplotlib) (6.1.1)\n",
            "Requirement already satisfied: zipp>=3.1.0 in c:\\users\\pc\\appdata\\local\\programs\\python\\python39\\lib\\site-packages (from importlib-resources>=3.2.0->matplotlib) (3.15.0)\n",
            "Requirement already satisfied: six>=1.5 in c:\\users\\pc\\appdata\\roaming\\python\\python39\\site-packages (from python-dateutil>=2.7->matplotlib) (1.16.0)\n"
          ]
        },
        {
          "name": "stderr",
          "output_type": "stream",
          "text": [
            "\n",
            "[notice] A new release of pip is available: 23.2.1 -> 23.3.2\n",
            "[notice] To update, run: python.exe -m pip install --upgrade pip\n"
          ]
        }
      ],
      "source": [
        "pip install matplotlib"
      ]
    },
    {
      "cell_type": "code",
      "execution_count": 25,
      "id": "319ff3d4",
      "metadata": {
        "id": "319ff3d4"
      },
      "outputs": [],
      "source": [
        "import matplotlib"
      ]
    },
    {
      "cell_type": "code",
      "execution_count": 26,
      "id": "4c23f9b2",
      "metadata": {
        "colab": {
          "base_uri": "https://localhost:8080/",
          "height": 155
        },
        "id": "4c23f9b2",
        "outputId": "f9518ad0-3405-4ec6-fbe6-365800b230ba"
      },
      "outputs": [
        {
          "name": "stderr",
          "output_type": "stream",
          "text": [
            "2024/01/06 23:16:23 INFO mlflow.utils.autologging_utils: Created MLflow autologging run with ID '72f7d486-cf70-4512-b3a9-730bba66cb6f', which will track hyperparameters, performance metrics, model artifacts, and lineage information for the current sklearn workflow\n",
            "2024/01/06 23:17:24 WARNING mlflow.utils.autologging_utils: Encountered unexpected error during sklearn autologging: The following failures occurred while performing one or more logging operations: [MlflowException('Failed to perform one or more operations on the run with ID 72f7d486-cf70-4512-b3a9-730bba66cb6f. Failed operations: [RestException(\\'BAD_REQUEST: Response: {\\\\\\'Error\\\\\\': {\\\\\\'Code\\\\\\': \\\\\\'UserError\\\\\\', \\\\\\'Severity\\\\\\': None, \\\\\\'Message\\\\\\': \"Could not log all inputs as datasets:\\\\\\\\nCREATE can\\\\\\'t modify existing entity, please use UPDATE.\", \\\\\\'MessageFormat\\\\\\': None, \\\\\\'MessageParameters\\\\\\': None, \\\\\\'ReferenceCode\\\\\\': None, \\\\\\'DetailsUri\\\\\\': None, \\\\\\'Target\\\\\\': None, \\\\\\'Details\\\\\\': [], \\\\\\'InnerError\\\\\\': None, \\\\\\'DebugInfo\\\\\\': None, \\\\\\'AdditionalInfo\\\\\\': None}, \\\\\\'Correlation\\\\\\': {\\\\\\'operation\\\\\\': \\\\\\'f46a6587180ce1f0e434d88ce9e202d0\\\\\\', \\\\\\'request\\\\\\': \\\\\\'4622cf6af341e52b\\\\\\'}, \\\\\\'Environment\\\\\\': \\\\\\'francecentral\\\\\\', \\\\\\'Location\\\\\\': \\\\\\'francecentral\\\\\\', \\\\\\'Time\\\\\\': \\\\\\'2024-01-06T22:13:54.2616954+00:00\\\\\\', \\\\\\'ComponentName\\\\\\': \\\\\\'mlflow\\\\\\', \\\\\\'statusCode\\\\\\': 400, \\\\\\'error_code\\\\\\': \\\\\\'BAD_REQUEST\\\\\\'}\\')]')]\n"
          ]
        },
        {
          "data": {
            "text/html": [
              "<style>#sk-container-id-2 {color: black;}#sk-container-id-2 pre{padding: 0;}#sk-container-id-2 div.sk-toggleable {background-color: white;}#sk-container-id-2 label.sk-toggleable__label {cursor: pointer;display: block;width: 100%;margin-bottom: 0;padding: 0.3em;box-sizing: border-box;text-align: center;}#sk-container-id-2 label.sk-toggleable__label-arrow:before {content: \"▸\";float: left;margin-right: 0.25em;color: #696969;}#sk-container-id-2 label.sk-toggleable__label-arrow:hover:before {color: black;}#sk-container-id-2 div.sk-estimator:hover label.sk-toggleable__label-arrow:before {color: black;}#sk-container-id-2 div.sk-toggleable__content {max-height: 0;max-width: 0;overflow: hidden;text-align: left;background-color: #f0f8ff;}#sk-container-id-2 div.sk-toggleable__content pre {margin: 0.2em;color: black;border-radius: 0.25em;background-color: #f0f8ff;}#sk-container-id-2 input.sk-toggleable__control:checked~div.sk-toggleable__content {max-height: 200px;max-width: 100%;overflow: auto;}#sk-container-id-2 input.sk-toggleable__control:checked~label.sk-toggleable__label-arrow:before {content: \"▾\";}#sk-container-id-2 div.sk-estimator input.sk-toggleable__control:checked~label.sk-toggleable__label {background-color: #d4ebff;}#sk-container-id-2 div.sk-label input.sk-toggleable__control:checked~label.sk-toggleable__label {background-color: #d4ebff;}#sk-container-id-2 input.sk-hidden--visually {border: 0;clip: rect(1px 1px 1px 1px);clip: rect(1px, 1px, 1px, 1px);height: 1px;margin: -1px;overflow: hidden;padding: 0;position: absolute;width: 1px;}#sk-container-id-2 div.sk-estimator {font-family: monospace;background-color: #f0f8ff;border: 1px dotted black;border-radius: 0.25em;box-sizing: border-box;margin-bottom: 0.5em;}#sk-container-id-2 div.sk-estimator:hover {background-color: #d4ebff;}#sk-container-id-2 div.sk-parallel-item::after {content: \"\";width: 100%;border-bottom: 1px solid gray;flex-grow: 1;}#sk-container-id-2 div.sk-label:hover label.sk-toggleable__label {background-color: #d4ebff;}#sk-container-id-2 div.sk-serial::before {content: \"\";position: absolute;border-left: 1px solid gray;box-sizing: border-box;top: 0;bottom: 0;left: 50%;z-index: 0;}#sk-container-id-2 div.sk-serial {display: flex;flex-direction: column;align-items: center;background-color: white;padding-right: 0.2em;padding-left: 0.2em;position: relative;}#sk-container-id-2 div.sk-item {position: relative;z-index: 1;}#sk-container-id-2 div.sk-parallel {display: flex;align-items: stretch;justify-content: center;background-color: white;position: relative;}#sk-container-id-2 div.sk-item::before, #sk-container-id-2 div.sk-parallel-item::before {content: \"\";position: absolute;border-left: 1px solid gray;box-sizing: border-box;top: 0;bottom: 0;left: 50%;z-index: -1;}#sk-container-id-2 div.sk-parallel-item {display: flex;flex-direction: column;z-index: 1;position: relative;background-color: white;}#sk-container-id-2 div.sk-parallel-item:first-child::after {align-self: flex-end;width: 50%;}#sk-container-id-2 div.sk-parallel-item:last-child::after {align-self: flex-start;width: 50%;}#sk-container-id-2 div.sk-parallel-item:only-child::after {width: 0;}#sk-container-id-2 div.sk-dashed-wrapped {border: 1px dashed gray;margin: 0 0.4em 0.5em 0.4em;box-sizing: border-box;padding-bottom: 0.4em;background-color: white;}#sk-container-id-2 div.sk-label label {font-family: monospace;font-weight: bold;display: inline-block;line-height: 1.2em;}#sk-container-id-2 div.sk-label-container {text-align: center;}#sk-container-id-2 div.sk-container {/* jupyter's `normalize.less` sets `[hidden] { display: none; }` but bootstrap.min.css set `[hidden] { display: none !important; }` so we also need the `!important` here to be able to override the default hidden behavior on the sphinx rendered scikit-learn.org. See: https://github.com/scikit-learn/scikit-learn/issues/21755 */display: inline-block !important;position: relative;}#sk-container-id-2 div.sk-text-repr-fallback {display: none;}</style><div id=\"sk-container-id-2\" class=\"sk-top-container\"><div class=\"sk-text-repr-fallback\"><pre>GridSearchCV(cv=10, estimator=RandomForestClassifier(),\n",
              "             param_grid={&#x27;max_depth&#x27;: [2, 7, 10], &#x27;n_estimators&#x27;: [10, 20, 30]},\n",
              "             refit=&#x27;roc_auc&#x27;,\n",
              "             scoring=[&#x27;roc_auc&#x27;, &#x27;precision&#x27;, &#x27;recall&#x27;, &#x27;f1&#x27;, &#x27;accuracy&#x27;])</pre><b>In a Jupyter environment, please rerun this cell to show the HTML representation or trust the notebook. <br />On GitHub, the HTML representation is unable to render, please try loading this page with nbviewer.org.</b></div><div class=\"sk-container\" hidden><div class=\"sk-item sk-dashed-wrapped\"><div class=\"sk-label-container\"><div class=\"sk-label sk-toggleable\"><input class=\"sk-toggleable__control sk-hidden--visually\" id=\"sk-estimator-id-4\" type=\"checkbox\" ><label for=\"sk-estimator-id-4\" class=\"sk-toggleable__label sk-toggleable__label-arrow\">GridSearchCV</label><div class=\"sk-toggleable__content\"><pre>GridSearchCV(cv=10, estimator=RandomForestClassifier(),\n",
              "             param_grid={&#x27;max_depth&#x27;: [2, 7, 10], &#x27;n_estimators&#x27;: [10, 20, 30]},\n",
              "             refit=&#x27;roc_auc&#x27;,\n",
              "             scoring=[&#x27;roc_auc&#x27;, &#x27;precision&#x27;, &#x27;recall&#x27;, &#x27;f1&#x27;, &#x27;accuracy&#x27;])</pre></div></div></div><div class=\"sk-parallel\"><div class=\"sk-parallel-item\"><div class=\"sk-item\"><div class=\"sk-label-container\"><div class=\"sk-label sk-toggleable\"><input class=\"sk-toggleable__control sk-hidden--visually\" id=\"sk-estimator-id-5\" type=\"checkbox\" ><label for=\"sk-estimator-id-5\" class=\"sk-toggleable__label sk-toggleable__label-arrow\">estimator: RandomForestClassifier</label><div class=\"sk-toggleable__content\"><pre>RandomForestClassifier()</pre></div></div></div><div class=\"sk-serial\"><div class=\"sk-item\"><div class=\"sk-estimator sk-toggleable\"><input class=\"sk-toggleable__control sk-hidden--visually\" id=\"sk-estimator-id-6\" type=\"checkbox\" ><label for=\"sk-estimator-id-6\" class=\"sk-toggleable__label sk-toggleable__label-arrow\">RandomForestClassifier</label><div class=\"sk-toggleable__content\"><pre>RandomForestClassifier()</pre></div></div></div></div></div></div></div></div></div></div>"
            ],
            "text/plain": [
              "GridSearchCV(cv=10, estimator=RandomForestClassifier(),\n",
              "             param_grid={'max_depth': [2, 7, 10], 'n_estimators': [10, 20, 30]},\n",
              "             refit='roc_auc',\n",
              "             scoring=['roc_auc', 'precision', 'recall', 'f1', 'accuracy'])"
            ]
          },
          "execution_count": 26,
          "metadata": {},
          "output_type": "execute_result"
        }
      ],
      "source": [
        "gridcv.fit(x_train, y_train)"
      ]
    },
    {
      "cell_type": "markdown",
      "id": "5346aa46",
      "metadata": {
        "id": "5346aa46"
      },
      "source": [
        "#### visualisation des résultats sur Azure ML experiments\n",
        "\n",
        "Les résultats du tracking et logging avec Mlflow peuvent être visualisés sur Azure machine learning studio en cliquant sur \"Jobs\" et puis sur le nom de l'experimentation (pour notre cas: diabetes-sklearn)\n",
        "\n",
        "![image.png](attachment:image.png)\n",
        "\n",
        "En cliquant sur le dernier job vous pouvez voir les résultats Mlflow de notre logging\n",
        "\n",
        "![image-2.png](attachment:image-2.png)\n",
        "\n",
        "les artifacts et run_id du meilleur modèle peuvent être trouvés en cliquent sur l'onglet \"output+logs\"\n",
        "\n",
        "![image-3.png](attachment:image-3.png)\n",
        "\n"
      ]
    },
    {
      "cell_type": "code",
      "execution_count": 27,
      "id": "6c9b5264",
      "metadata": {
        "id": "6c9b5264",
        "outputId": "248a7572-c765-4d7d-8957-2caf0b15f01b"
      },
      "outputs": [],
      "source": [
        "#modelLogistic = LogisticRegression()\n",
        "#modelLogistic.fit(x_train,y_train)"
      ]
    },
    {
      "cell_type": "code",
      "execution_count": 28,
      "id": "59706602",
      "metadata": {
        "id": "59706602"
      },
      "outputs": [],
      "source": [
        "#parameters={'penalty':['l1','l2'],\"C\":[1,2,3,4,5,10,100],'max_iter':[10,20,30]}"
      ]
    },
    {
      "cell_type": "code",
      "execution_count": 29,
      "id": "057d0c54",
      "metadata": {
        "id": "057d0c54"
      },
      "outputs": [],
      "source": [
        "#mlflow.sklearn.autolog(max_tuning_runs=None)\n",
        "#gridcv=GridSearchCV(modelLogistic,param_grid=parameters,scoring = ['roc_auc', 'precision', 'recall', 'f1', 'accuracy'],refit = 'roc_auc',cv=10)"
      ]
    },
    {
      "cell_type": "code",
      "execution_count": 30,
      "id": "2a7e3ab7",
      "metadata": {
        "id": "2a7e3ab7",
        "outputId": "c56902e8-d057-43a6-e901-2fed8815236c"
      },
      "outputs": [],
      "source": [
        "#gridcv.fit(x_train,y_train)"
      ]
    },
    {
      "cell_type": "markdown",
      "id": "42c32d69",
      "metadata": {
        "id": "42c32d69"
      },
      "source": [
        "## 2.  L'enregistrement du modèle\n",
        "L'enregistrement du modèle dans le registre de modèles d'Azure Machine Learning a pour but de permettre aux utilisateurs de suivre les modifications apportées au modèle via la gestion des versions du modèle."
      ]
    },
    {
      "cell_type": "markdown",
      "id": "f419829b",
      "metadata": {
        "id": "f419829b"
      },
      "source": [
        "nous allons trouver l'expérimentation à partir du workspace en définant le workspace et le nom de l'expérimentation"
      ]
    },
    {
      "cell_type": "code",
      "execution_count": 31,
      "id": "871df1a5",
      "metadata": {
        "id": "871df1a5"
      },
      "outputs": [],
      "source": [
        "from azureml.core import Experiment, Workspace\n",
        "experiment_name = 'diabetes-sklearn'\n",
        "experiment = Experiment(ws, experiment_name)"
      ]
    },
    {
      "cell_type": "code",
      "execution_count": 32,
      "id": "908f6990",
      "metadata": {
        "colab": {
          "base_uri": "https://localhost:8080/"
        },
        "id": "908f6990",
        "outputId": "009118ce-cd2e-4f7f-b1a3-022d632949f0"
      },
      "outputs": [
        {
          "name": "stdout",
          "output_type": "stream",
          "text": [
            "Run(Experiment: diabetes-sklearn,\n",
            "Id: 72f7d486-cf70-4512-b3a9-730bba66cb6f,\n",
            "Type: None,\n",
            "Status: Failed)\n",
            "Run(Experiment: diabetes-sklearn,\n",
            "Id: a267a99e-8965-44cc-93b4-221ae0087470,\n",
            "Type: None,\n",
            "Status: Failed)\n",
            "Run(Experiment: diabetes-sklearn,\n",
            "Id: e8e8a305-fcef-407d-9dc1-a3d1ab1421a6,\n",
            "Type: None,\n",
            "Status: Failed)\n",
            "Run(Experiment: diabetes-sklearn,\n",
            "Id: 3831b5b8-04f5-4df9-9e28-9abac0b26bba,\n",
            "Type: None,\n",
            "Status: Completed)\n",
            "Run(Experiment: diabetes-sklearn,\n",
            "Id: fb1be63d-897b-4867-a163-697b55898b38,\n",
            "Type: None,\n",
            "Status: Running)\n",
            "Run(Experiment: diabetes-sklearn,\n",
            "Id: 7ab91901-682d-4024-9f4e-0bb1ec5fcccf,\n",
            "Type: None,\n",
            "Status: Running)\n",
            "Run(Experiment: diabetes-sklearn,\n",
            "Id: 47107f46-6c87-4d5a-b404-c684a1331346,\n",
            "Type: None,\n",
            "Status: Failed)\n",
            "Run(Experiment: diabetes-sklearn,\n",
            "Id: 32acc5ce-7a79-4f82-8c0a-be72fc3991f3,\n",
            "Type: None,\n",
            "Status: Failed)\n",
            "Run(Experiment: diabetes-sklearn,\n",
            "Id: f26008cd-ca79-48ac-bbb3-23bc17cfc05f,\n",
            "Type: None,\n",
            "Status: Failed)\n",
            "Run(Experiment: diabetes-sklearn,\n",
            "Id: 63714752-6423-4769-a887-a05c8f372c52,\n",
            "Type: None,\n",
            "Status: Failed)\n",
            "Run(Experiment: diabetes-sklearn,\n",
            "Id: fde2e13d-8f80-4abb-a253-e3cc95d2a9ec,\n",
            "Type: None,\n",
            "Status: Failed)\n"
          ]
        }
      ],
      "source": [
        "# afficher tous les runs\n",
        "for r in experiment.get_runs():\n",
        "    print(r)"
      ]
    },
    {
      "cell_type": "markdown",
      "id": "5a5cc6bd",
      "metadata": {
        "id": "5a5cc6bd"
      },
      "source": [
        "Trouver le Run actuel"
      ]
    },
    {
      "cell_type": "code",
      "execution_count": 33,
      "id": "bc096bc4",
      "metadata": {
        "id": "bc096bc4"
      },
      "outputs": [],
      "source": [
        "run_id = '3831b5b8-04f5-4df9-9e28-9abac0b26bba'\n",
        "run = [r for r in experiment.get_runs() if r.id == run_id][0]"
      ]
    },
    {
      "cell_type": "markdown",
      "id": "5091a895",
      "metadata": {
        "id": "5091a895"
      },
      "source": [
        "Enregistrer le modèle\n",
        "\n",
        "    model_name: un nom arbitraire pour enregister le modèle\n",
        "    model_path: chemin vers  model.pkl"
      ]
    },
    {
      "cell_type": "code",
      "execution_count": 34,
      "id": "47672e52",
      "metadata": {
        "id": "47672e52"
      },
      "outputs": [],
      "source": [
        "model = run.register_model(model_name = 'diabetes_model', model_path = 'best_estimator/model.pkl')"
      ]
    },
    {
      "cell_type": "markdown",
      "id": "d11c9659",
      "metadata": {
        "id": "d11c9659"
      },
      "source": [
        "on peut visualiser nos modèle enregistés en visitant \"Models\"\n",
        "\n",
        "![image.png](attachment:image.png)\n",
        "\n",
        "N.B: La dernière version enregistrée du modèle est 18"
      ]
    },
    {
      "cell_type": "markdown",
      "id": "b207bc48",
      "metadata": {
        "id": "b207bc48"
      },
      "source": [
        "## 3. la création d'un script de Scoring\n",
        "\n",
        "Le script de scoring généralement appelé score.py est utilisé lors de l'inférence comme point d'entrée du modèle.\n",
        "\n",
        "score.py (voir le dossier de l'atelier) consiste en deux fonctions obligatoires:\n",
        "\n",
        "1. init(): charge le modèle en tant que variable globale\n",
        "2. run(): reçoit les nouvelles données à prédire à travers le paramètre data\n",
        "      * effectue un pré-traitement des nouvelles données (optionnel)\n",
        "      * effectue une prédiction sur les nouvelles données\n",
        "      * effectue un post-traitement sur les prédictions (optionnel)\n",
        "      * renvoie les résultats de la prédiction"
      ]
    },
    {
      "cell_type": "markdown",
      "id": "a0ca201f",
      "metadata": {
        "id": "a0ca201f"
      },
      "source": [
        "## 4. Déploiement en local\n",
        "\n",
        "Maintenant nous allons debuger le web service locallement avant de le déployer en production avec ACI \" Azure container Instance\""
      ]
    },
    {
      "cell_type": "markdown",
      "id": "a7c2c59c",
      "metadata": {
        "id": "a7c2c59c"
      },
      "source": [
        "Récupérez le modèle enregistré en définissant le workspace, le nom du modèle et la version du modèle."
      ]
    },
    {
      "cell_type": "code",
      "execution_count": 35,
      "id": "757c0ac4",
      "metadata": {
        "id": "757c0ac4"
      },
      "outputs": [],
      "source": [
        "from azureml.core.model import Model\n",
        "model = Model(ws, 'diabetes_model', version=1)"
      ]
    },
    {
      "cell_type": "markdown",
      "id": "dd4c21e1",
      "metadata": {
        "id": "dd4c21e1"
      },
      "source": [
        "### la création d'un environnement d'inférence personnalisé\n",
        "Lors de l'entrainement du modèle, nous avons enregistré les dépendances de l'environnement dans MLFlow sous la forme d'un fichier conda.yaml. Nous utiliserons ce fichier pour créer un environnement d'inférence personnalisé.\n",
        "\n",
        "![image.png](attachment:image.png)\n",
        "\n",
        "Téléchargez le fichier conda.yml vers le dossier de l'atelier (déjà faite pour vous) et rajoutant d'autres dépendances comme: azureml-defaults==1.43, applicationinsights\n",
        "\n",
        "le fichier conda.yml aura l'allure suivante (voir le dossier de l'atelier):\n",
        "\n",
        "channels:\n",
        "- conda-forge\n",
        "dependencies:\n",
        "- python=3.7.3\n",
        "- pip\n",
        "- pip:\n",
        "  - mlflow\n",
        "  - cffi==1.12.2\n",
        "  - cloudpickle==2.0.0\n",
        "  - pillow==5.4.1\n",
        "  - psutil==5.9.0\n",
        "  - scikit-learn==0.24.2\n",
        "  - azureml-defaults==1.43\n",
        "  - applicationinsights\n",
        "name: mlflow-env\n",
        "\n",
        "Nous allons nous baser sur ce fichier pour créer un environnement personnalisé\n",
        "\n",
        "après enregistrement de cet environnement, nous pouvons le consulter dans la section \"Environment\" dans Azure Machine Learning et plus particulièrement dans l'onglet \"Custom environments\"\n",
        "\n",
        "![image-2.png](attachment:image-2.png)"
      ]
    },
    {
      "cell_type": "code",
      "execution_count": 36,
      "id": "3b3d9916",
      "metadata": {
        "colab": {
          "base_uri": "https://localhost:8080/"
        },
        "id": "3b3d9916",
        "outputId": "edc3cfd0-afbe-434a-9a20-1e0f7b693a76"
      },
      "outputs": [
        {
          "data": {
            "text/plain": [
              "{\n",
              "    \"assetId\": \"azureml://locations/francecentral/workspaces/50554e45-0132-411e-8725-4bbd22a33172/environments/diabetes-env6/versions/6\",\n",
              "    \"databricks\": {\n",
              "        \"eggLibraries\": [],\n",
              "        \"jarLibraries\": [],\n",
              "        \"mavenLibraries\": [],\n",
              "        \"pypiLibraries\": [],\n",
              "        \"rcranLibraries\": []\n",
              "    },\n",
              "    \"docker\": {\n",
              "        \"arguments\": [],\n",
              "        \"baseDockerfile\": null,\n",
              "        \"baseImage\": \"mcr.microsoft.com/azureml/openmpi4.1.0-ubuntu20.04:20231030.v1\",\n",
              "        \"baseImageRegistry\": {\n",
              "            \"address\": null,\n",
              "            \"password\": null,\n",
              "            \"registryIdentity\": null,\n",
              "            \"username\": null\n",
              "        },\n",
              "        \"buildContext\": null,\n",
              "        \"enabled\": false,\n",
              "        \"platform\": {\n",
              "            \"architecture\": \"amd64\",\n",
              "            \"os\": \"Linux\"\n",
              "        },\n",
              "        \"sharedVolumes\": true,\n",
              "        \"shmSize\": null\n",
              "    },\n",
              "    \"environmentVariables\": {\n",
              "        \"EXAMPLE_ENV_VAR\": \"EXAMPLE_VALUE\"\n",
              "    },\n",
              "    \"inferencingStackVersion\": null,\n",
              "    \"name\": \"diabetes-env6\",\n",
              "    \"python\": {\n",
              "        \"baseCondaEnvironment\": null,\n",
              "        \"condaDependencies\": {\n",
              "            \"channels\": [\n",
              "                \"conda-forge\"\n",
              "            ],\n",
              "            \"dependencies\": [\n",
              "                \"python=3.9.13\",\n",
              "                \"pip<=23.2.1\",\n",
              "                {\n",
              "                    \"pip\": [\n",
              "                        \"mlflow\",\n",
              "                        \"cloudpickle==2.0.0\",\n",
              "                        \"lz4==3.1.3\",\n",
              "                        \"nunpy==1.23.5\",\n",
              "                        \"packaging\",\n",
              "                        \"pathlib==1.0.1\",\n",
              "                        \"psutil==5.9.0\",\n",
              "                        \"pyyaml==6.0\",\n",
              "                        \"scikit-learn==1.3.2\",\n",
              "                        \"scipy==1.9.1\",\n",
              "                        \"azureml-defaults\",\n",
              "                        \"applicationinsights\"\n",
              "                    ]\n",
              "                }\n",
              "            ],\n",
              "            \"name\": \"mlflow-env\"\n",
              "        },\n",
              "        \"condaDependenciesFile\": null,\n",
              "        \"interpreterPath\": \"python\",\n",
              "        \"userManagedDependencies\": false\n",
              "    },\n",
              "    \"r\": null,\n",
              "    \"spark\": {\n",
              "        \"packages\": [],\n",
              "        \"precachePackages\": true,\n",
              "        \"repositories\": []\n",
              "    },\n",
              "    \"version\": \"6\"\n",
              "}"
            ]
          },
          "execution_count": 36,
          "metadata": {},
          "output_type": "execute_result"
        }
      ],
      "source": [
        "from azureml.core import Environment\n",
        "env = Environment.from_conda_specification(name='diabetes-env6', file_path=\"./conda.yaml\")\n",
        "env.register(ws)"
      ]
    },
    {
      "cell_type": "markdown",
      "id": "900495f8",
      "metadata": {
        "id": "900495f8"
      },
      "source": [
        "### Définons la configuration d'inférence"
      ]
    },
    {
      "cell_type": "code",
      "execution_count": 37,
      "id": "d5132101",
      "metadata": {
        "colab": {
          "base_uri": "https://localhost:8080/"
        },
        "id": "d5132101",
        "outputId": "53f5bf68-5055-4438-e85f-f8c9d6eb508a"
      },
      "outputs": [],
      "source": [
        "from azureml.core.model import InferenceConfig\n",
        "inference_config = InferenceConfig(\n",
        "    environment=env,\n",
        "    source_directory=\".\",\n",
        "    entry_script=\"./score.py\",\n",
        ")"
      ]
    },
    {
      "cell_type": "markdown",
      "id": "33a037d7",
      "metadata": {
        "id": "33a037d7"
      },
      "source": [
        "### Définons la configuration de déploiement"
      ]
    },
    {
      "cell_type": "code",
      "execution_count": 38,
      "id": "d36c5294",
      "metadata": {
        "id": "d36c5294"
      },
      "outputs": [],
      "source": [
        "from azureml.core.webservice import LocalWebservice\n",
        "deployment_config = LocalWebservice.deploy_configuration(port=6789)"
      ]
    },
    {
      "cell_type": "markdown",
      "id": "89e40dc7",
      "metadata": {
        "id": "89e40dc7"
      },
      "source": [
        "### Déployons le service localement\n",
        "\n",
        "Avant d'exécuter la cellule ci-dessous, assurez vous que Docker est démarré"
      ]
    },
    {
      "cell_type": "code",
      "execution_count": 39,
      "id": "6IYJm6VZQnHT",
      "metadata": {
        "colab": {
          "base_uri": "https://localhost:8080/",
          "height": 181
        },
        "id": "6IYJm6VZQnHT",
        "outputId": "ef8863c3-6272-4f46-cc76-4d6f34717233"
      },
      "outputs": [
        {
          "ename": "NameError",
          "evalue": "name 'docker' is not defined",
          "output_type": "error",
          "traceback": [
            "\u001b[1;31m---------------------------------------------------------------------------\u001b[0m",
            "\u001b[1;31mNameError\u001b[0m                                 Traceback (most recent call last)",
            "Cell \u001b[1;32mIn[39], line 1\u001b[0m\n\u001b[1;32m----> 1\u001b[0m \u001b[43mdocker\u001b[49m \u001b[38;5;241m-\u001b[39m\u001b[38;5;241m-\u001b[39mversion\n",
            "\u001b[1;31mNameError\u001b[0m: name 'docker' is not defined"
          ]
        }
      ],
      "source": [
        "docker --version"
      ]
    },
    {
      "cell_type": "code",
      "execution_count": 41,
      "id": "84cb2426",
      "metadata": {
        "colab": {
          "base_uri": "https://localhost:8080/",
          "height": 1000
        },
        "id": "84cb2426",
        "outputId": "c27abdb6-28b0-48bb-d1f0-13a4b6777880"
      },
      "outputs": [
        {
          "name": "stdout",
          "output_type": "stream",
          "text": [
            "Downloading model diabetes_model:1 to C:\\Users\\PC\\AppData\\Local\\Temp\\azureml_q9cwu6hp\\diabetes_model\\1\n",
            "Generating Docker build context.\n",
            "2024/01/06 22:29:33 Downloading source code...\n",
            "2024/01/06 22:29:34 Finished downloading source code\n",
            "2024/01/06 22:29:34 Creating Docker network: acb_default_network, driver: 'bridge'\n",
            "2024/01/06 22:29:35 Successfully set up Docker network: acb_default_network\n",
            "2024/01/06 22:29:35 Setting up Docker configuration...\n",
            "2024/01/06 22:29:35 Successfully set up Docker configuration\n",
            "2024/01/06 22:29:35 Logging in to registry: 50554e450132411e87254bbd22a33172.azurecr.io\n",
            "2024/01/06 22:29:36 Successfully logged into 50554e450132411e87254bbd22a33172.azurecr.io\n",
            "2024/01/06 22:29:36 Volume source scriptsFromEms successfully created\n",
            "2024/01/06 22:29:36 Executing step ID: acb_step_0. Timeout(sec): 5400, Working directory: '', Network: 'acb_default_network'\n",
            "2024/01/06 22:29:36 Scanning for dependencies...\n",
            "2024/01/06 22:29:37 Successfully scanned dependencies\n",
            "2024/01/06 22:29:37 Launching container with name: acb_step_0\n",
            "Sending build context to Docker daemon  77.31kB\n",
            "Step 1/21 : FROM mcr.microsoft.com/azureml/openmpi4.1.0-ubuntu20.04:20231030.v1@sha256:937a0e727cfc5270649a77ddca125322748d10066b4b07ffe548881f66a68c40\n",
            "mcr.microsoft.com/azureml/openmpi4.1.0-ubuntu20.04:20231030.v1@sha256:937a0e727cfc5270649a77ddca125322748d10066b4b07ffe548881f66a68c40: Pulling from azureml/openmpi4.1.0-ubuntu20.04\n",
            "7a2c55901189: Pulling fs layer\n",
            "432bf036493a: Pulling fs layer\n",
            "aa894bd60aee: Pulling fs layer\n",
            "0dba31490a99: Pulling fs layer\n",
            "ff03b100c8be: Pulling fs layer\n",
            "f8c7731b1f9b: Pulling fs layer\n",
            "8d008a4b3d03: Pulling fs layer\n",
            "06ed8a435d6f: Pulling fs layer\n",
            "b8c2e1145c8b: Pulling fs layer\n",
            "6d3afa035b05: Pulling fs layer\n",
            "0dba31490a99: Waiting\n",
            "ff03b100c8be: Waiting\n",
            "f8c7731b1f9b: Waiting\n",
            "8d008a4b3d03: Waiting\n",
            "06ed8a435d6f: Waiting\n",
            "b8c2e1145c8b: Waiting\n",
            "6d3afa035b05: Waiting\n",
            "7a2c55901189: Verifying Checksum\n",
            "7a2c55901189: Download complete\n",
            "aa894bd60aee: Verifying Checksum\n",
            "aa894bd60aee: Download complete\n",
            "ff03b100c8be: Verifying Checksum\n",
            "ff03b100c8be: Download complete\n",
            "0dba31490a99: Verifying Checksum\n",
            "0dba31490a99: Download complete\n",
            "8d008a4b3d03: Verifying Checksum\n",
            "8d008a4b3d03: Download complete\n",
            "f8c7731b1f9b: Verifying Checksum\n",
            "f8c7731b1f9b: Download complete\n",
            "06ed8a435d6f: Verifying Checksum\n",
            "06ed8a435d6f: Download complete\n",
            "432bf036493a: Verifying Checksum\n",
            "432bf036493a: Download complete\n",
            "6d3afa035b05: Verifying Checksum\n",
            "6d3afa035b05: Download complete\n",
            "b8c2e1145c8b: Verifying Checksum\n",
            "b8c2e1145c8b: Download complete\n",
            "7a2c55901189: Pull complete\n",
            "432bf036493a: Pull complete\n",
            "aa894bd60aee: Pull complete\n",
            "0dba31490a99: Pull complete\n",
            "ff03b100c8be: Pull complete\n",
            "f8c7731b1f9b: Pull complete\n",
            "8d008a4b3d03: Pull complete\n",
            "06ed8a435d6f: Pull complete\n",
            "b8c2e1145c8b: Pull complete\n",
            "6d3afa035b05: Pull complete\n",
            "Digest: sha256:937a0e727cfc5270649a77ddca125322748d10066b4b07ffe548881f66a68c40\n",
            "Status: Downloaded newer image for mcr.microsoft.com/azureml/openmpi4.1.0-ubuntu20.04:20231030.v1@sha256:937a0e727cfc5270649a77ddca125322748d10066b4b07ffe548881f66a68c40\n",
            " ---> 818bfddae356\n",
            "Step 2/21 : USER root\n",
            " ---> Running in af29d674e1e0\n",
            "Removing intermediate container af29d674e1e0\n",
            " ---> 3eb9053e8ed2\n",
            "Step 3/21 : RUN mkdir -p $HOME/.cache\n",
            " ---> Running in 22a4819992d7\n",
            "Removing intermediate container 22a4819992d7\n",
            " ---> 6f250b466b76\n",
            "Step 4/21 : WORKDIR /\n",
            " ---> Running in a012ad8bcf7a\n",
            "Removing intermediate container a012ad8bcf7a\n",
            " ---> 9741872be80b\n",
            "Step 5/21 : COPY azureml-environment-setup/99brokenproxy /etc/apt/apt.conf.d/\n",
            " ---> 59cf2fdccf60\n",
            "Step 6/21 : RUN if dpkg --compare-versions `conda --version | grep -oE '[^ ]+$'` lt 4.4.11; then conda install conda==4.4.11; fi\n",
            " ---> Running in 14513c16c66e\n",
            "Removing intermediate container 14513c16c66e\n",
            " ---> ce4a3152bafb\n",
            "Step 7/21 : COPY azureml-environment-setup/mutated_conda_dependencies.yml azureml-environment-setup/mutated_conda_dependencies.yml\n",
            " ---> 19b16f9706df\n",
            "Step 8/21 : RUN ldconfig /usr/local/cuda/lib64/stubs && conda env create -p /azureml-envs/azureml_95a0a33be36bdd20ef6afbbfc8bfcdcf -f azureml-environment-setup/mutated_conda_dependencies.yml && rm -rf \"$HOME/.cache/pip\" && conda clean -aqy && CONDA_ROOT_DIR=$(conda info --root) && rm -rf \"$CONDA_ROOT_DIR/pkgs\" && find \"$CONDA_ROOT_DIR\" -type d -name __pycache__ -exec rm -rf {} + && ldconfig\n",
            " ---> Running in 057b1c3cab65\n",
            "Retrieving notices: ...working... done\n",
            "Collecting package metadata (repodata.json): ...working... \n"
          ]
        }
      ],
      "source": [
        "service = Model.deploy(\n",
        "    workspace = ws,\n",
        "    name = 'diabetes-prediction-service20',\n",
        "    models = [model],\n",
        "    inference_config = inference_config,\n",
        "    deployment_config = deployment_config,\n",
        "    overwrite=True)"
      ]
    },
    {
      "cell_type": "code",
      "execution_count": null,
      "id": "5394eace",
      "metadata": {
        "id": "5394eace",
        "outputId": "01c22441-350c-4960-f8c9-3490e688326c"
      },
      "outputs": [
        {
          "name": "stdout",
          "output_type": "stream",
          "text": [
            "Checking container health...\n",
            "Local webservice is running at http://localhost:6789\n"
          ]
        }
      ],
      "source": [
        "service.wait_for_deployment(show_output=True)"
      ]
    },
    {
      "cell_type": "markdown",
      "id": "5e1ffbe6",
      "metadata": {
        "id": "5e1ffbe6"
      },
      "source": [
        "Le fichier model.pkl sera téléchargé à partir d'Azure Machine Learning dans un dossier local temporaire et une image Docker avec les dépendances est créée et enregistrée dans Azure Container Registry (ACR). L'image sera téléchargée d'ACR sur la machine locale et un conteneur Docker exécutant le service Web est construit à partir de l'image localement.\n",
        "\n"
      ]
    },
    {
      "cell_type": "markdown",
      "id": "31719137",
      "metadata": {
        "id": "31719137"
      },
      "source": [
        "Pour avoir l'URI de scoring lancez la commande suivante"
      ]
    },
    {
      "cell_type": "code",
      "execution_count": null,
      "id": "6835af5d",
      "metadata": {
        "id": "6835af5d",
        "outputId": "5f422536-d0c9-4678-cd02-6de4585a7ebb"
      },
      "outputs": [
        {
          "name": "stdout",
          "output_type": "stream",
          "text": [
            "http://localhost:6789/score\n"
          ]
        }
      ],
      "source": [
        "print (service.scoring_uri)"
      ]
    },
    {
      "cell_type": "markdown",
      "id": "a9bf3306",
      "metadata": {
        "id": "a9bf3306"
      },
      "source": [
        "## 5. Testons le service localement\n",
        "\n",
        "Pour tester le service localement, ouvrez le notebook \"Inference_test.ipynb\" et assigner l'URI de scroring à la variable scoring_uri\n",
        "\n",
        "Nous avons envoyé une demande d'inference au scoring_uri avec les données au format JSON. Voici à quoi ressemble input_data :\n",
        "\n",
        "{\"input\": \"[{\\\"Pregnancies\\\":6,\\\"Glucose\\\":148,\\\"BloodPressure\\\":72,\\\"SkinThickness\\\":35,\\\"Insulin\\\":0,\\\"BMI\\\":33.6,\\\"DiabetesPedigreeFunction\\\":0.627,\\\"Age\\\":50}]\"}\n",
        "\n",
        "\n",
        "Voici un exemple de la réponse pour l'inférence sur un seul enregistrement. La valeur de retour contient la probabilité qu'une personne reçoive un diagnostic de diabète.\n",
        "\n",
        "prediction: \"{\\\"proba\\\": [0.4829951216899814]}\"\n",
        "\n",
        "\n",
        "Le format de réponse peut être personnalisé dans la fonction run du fichier score.py."
      ]
    },
    {
      "cell_type": "markdown",
      "id": "2f11f04c",
      "metadata": {
        "id": "2f11f04c"
      },
      "source": [
        "## 6. Déplyons le service sur ACI"
      ]
    },
    {
      "cell_type": "code",
      "execution_count": null,
      "id": "74887529",
      "metadata": {
        "id": "74887529"
      },
      "outputs": [],
      "source": [
        "from azureml.core import Workspace\n",
        "ws = Workspace.from_config()\n",
        "from azureml.core.model import Model\n",
        "model = Model(ws, 'diabetes_model', version=1)\n",
        "from azureml.core import Environment\n",
        "env = Environment.get(workspace = ws, name = 'diabetes-env6', version = 1)"
      ]
    },
    {
      "cell_type": "code",
      "execution_count": null,
      "id": "715bca95",
      "metadata": {
        "id": "715bca95"
      },
      "outputs": [],
      "source": [
        "from azureml.core.model import InferenceConfig\n",
        "inference_config = InferenceConfig(\n",
        "    environment=env,\n",
        "    source_directory=\".\",\n",
        "    entry_script=\"./score.py\")"
      ]
    },
    {
      "cell_type": "code",
      "execution_count": null,
      "id": "f846f2dd",
      "metadata": {
        "id": "f846f2dd"
      },
      "outputs": [],
      "source": [
        "from azureml.core.webservice import AciWebservice\n",
        "deployment_config = AciWebservice.deploy_configuration(cpu_cores=0.1, memory_gb=0.5, auth_enabled=False)"
      ]
    },
    {
      "cell_type": "code",
      "execution_count": null,
      "id": "e89aae58",
      "metadata": {
        "id": "e89aae58",
        "outputId": "f0de9fb2-e274-42d0-8871-4dc6853cdc21"
      },
      "outputs": [
        {
          "name": "stdout",
          "output_type": "stream",
          "text": [
            "Tips: You can try get_logs(): https://aka.ms/debugimage#dockerlog or local deployment: https://aka.ms/debugimage#debug-locally to debug if deployment takes longer than 10 minutes.\n",
            "Running\n",
            "2023-10-21 15:19:34+01:00 Creating Container Registry if not exists.\n",
            "2023-10-21 15:19:34+01:00 Registering the environment.\n",
            "2023-10-21 15:19:36+01:00 Use the existing image.\n",
            "2023-10-21 15:19:36+01:00 Generating deployment configuration.\n",
            "2023-10-21 15:19:37+01:00 Submitting deployment to compute.\n",
            "2023-10-21 15:19:42+01:00 Checking the status of deployment diabetes-prediction-service5..\n",
            "2023-10-21 15:21:04+01:00 Checking the status of inference endpoint diabetes-prediction-service5.\n",
            "Succeeded\n",
            "ACI service creation operation finished, operation \"Succeeded\"\n"
          ]
        }
      ],
      "source": [
        "service = Model.deploy(\n",
        "    workspace = ws,\n",
        "    name = 'diabetes-prediction-service5',\n",
        "    models = [model],\n",
        "    inference_config = inference_config,\n",
        "    deployment_config = deployment_config,\n",
        "    overwrite=True)\n",
        "\n",
        "service.wait_for_deployment(show_output=True)"
      ]
    },
    {
      "cell_type": "code",
      "execution_count": null,
      "id": "5340d97f",
      "metadata": {
        "id": "5340d97f"
      },
      "outputs": [],
      "source": [
        "#service.delete()"
      ]
    },
    {
      "cell_type": "code",
      "execution_count": null,
      "id": "74f4969b",
      "metadata": {
        "id": "74f4969b",
        "outputId": "669c6392-6370-4a3e-ce87-a668d9ec69c6"
      },
      "outputs": [
        {
          "name": "stdout",
          "output_type": "stream",
          "text": [
            "http://8fb5f55b-6f80-4314-8c3d-7a46e6aac1f4.francecentral.azurecontainer.io/score\n"
          ]
        }
      ],
      "source": [
        "print (service.scoring_uri)"
      ]
    },
    {
      "cell_type": "markdown",
      "id": "8fc3b4d8",
      "metadata": {
        "id": "8fc3b4d8"
      },
      "source": [
        "### Testons le service\n",
        "\n",
        "Refaites la même chose en ouvrant le notebook \"Inference_test.ipynb\" et assigner le nouveau URI de scroring à la variable scoring_uri"
      ]
    },
    {
      "cell_type": "markdown",
      "id": "47662441",
      "metadata": {
        "id": "47662441"
      },
      "source": [
        "## Déploiement sur AKS \"Azure Kubernetes Service\"\n",
        "\n",
        "ACI est recommandé pour les tests sur une petite charge de travail de production. Pour une charge de travail importante azure fourni AKS \"Azure Kubernetes Service\"\n",
        "\n",
        "Malheureusement le Déploiement sur AKS n'est pas pris en compte  avec notre sousription actuelle.\n",
        "\n",
        "Néanmoins, je vous ai fourni le code de déploiement pour une éventuelle utilisation future"
      ]
    },
    {
      "cell_type": "code",
      "execution_count": null,
      "id": "69d6dbfa",
      "metadata": {
        "id": "69d6dbfa"
      },
      "outputs": [],
      "source": [
        "from azureml.core.webservice import AksWebservice\n",
        "deployment_config = AksWebservice.deploy_configuration(cpu_cores=1, memory_gb=1, auth_enabled=False)"
      ]
    },
    {
      "cell_type": "code",
      "execution_count": null,
      "id": "dfef4bd3",
      "metadata": {
        "id": "dfef4bd3"
      },
      "outputs": [],
      "source": [
        "# ça suppose la création d'un kubernetes cluster\n",
        "from azureml.core.compute import AksCompute\n",
        "aks_target = AksCompute(ws,\"myaks\")"
      ]
    },
    {
      "cell_type": "code",
      "execution_count": null,
      "id": "bc54497d",
      "metadata": {
        "id": "bc54497d"
      },
      "outputs": [],
      "source": [
        "service = Model.deploy(\n",
        "    workspace = ws,\n",
        "    name = 'diabetes-prediction-service-aks',\n",
        "    models = [model],\n",
        "    inference_config = inference_config,\n",
        "    deployment_config = deployment_config,\n",
        "    deployment_target=aks_target,\n",
        "    overwrite=True)\n",
        "\n",
        "service.wait_for_deployment(show_output=True)"
      ]
    },
    {
      "cell_type": "code",
      "execution_count": null,
      "id": "8f3b3b44",
      "metadata": {
        "id": "8f3b3b44"
      },
      "outputs": [],
      "source": []
    }
  ],
  "metadata": {
    "colab": {
      "provenance": []
    },
    "kernelspec": {
      "display_name": "Python 3 (ipykernel)",
      "language": "python",
      "name": "python3"
    },
    "language_info": {
      "codemirror_mode": {
        "name": "ipython",
        "version": 3
      },
      "file_extension": ".py",
      "mimetype": "text/x-python",
      "name": "python",
      "nbconvert_exporter": "python",
      "pygments_lexer": "ipython3",
      "version": "3.9.13"
    }
  },
  "nbformat": 4,
  "nbformat_minor": 5
}
