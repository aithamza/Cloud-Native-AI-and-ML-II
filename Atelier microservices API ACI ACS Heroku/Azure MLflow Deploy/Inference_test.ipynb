{
 "cells": [
  {
   "cell_type": "code",
   "execution_count": 1,
   "id": "e76c0709",
   "metadata": {},
   "outputs": [],
   "source": [
    "import requests\n",
    "\n",
    "import json\n",
    "\n",
    "import pandas as pd"
   ]
  },
  {
   "cell_type": "code",
   "execution_count": 3,
   "id": "9046d32f",
   "metadata": {},
   "outputs": [
    {
     "name": "stdout",
     "output_type": "stream",
     "text": [
      "{\"input\": \"[{\\\"Pregnancies\\\":6,\\\"Glucose\\\":148,\\\"BloodPressure\\\":72,\\\"SkinThickness\\\":35,\\\"Insulin\\\":0,\\\"BMI\\\":33.6,\\\"DiabetesPedigreeFunction\\\":0.627,\\\"Age\\\":50}]\"}\n",
      "prediction: \"{\\\"proba\\\": [0.47949760090531374]}\"\n"
     ]
    }
   ],
   "source": [
    "local_deployment = True\n",
    "scoring_uri = 'http://8fb5f55b-6f80-4314-8c3d-7a46e6aac1f4.francecentral.azurecontainer.io/score'\n",
    "api_key = None\n",
    "input_path = 'diabetes.csv'# load the data for testing\n",
    "df = pd.read_csv(input_path, sep = ',')\n",
    "y = df.pop('Outcome')\n",
    "X = df\n",
    "input_data = json.dumps({'input':X.head(1).to_json(orient = 'records')})\n",
    "print(input_data)\n",
    "if local_deployment:\n",
    "    headers = {'Content-Type':'application/json'}\n",
    "else:\n",
    "    headers = {'Content-Type':'application/json', 'Authorization':('Bearer '+ api_key)}\n",
    "resp = requests.post(scoring_uri, input_data, headers=headers)\n",
    "print(\"prediction:\", resp.text)"
   ]
  },
  {
   "cell_type": "code",
   "execution_count": null,
   "id": "14ece4f5",
   "metadata": {},
   "outputs": [],
   "source": []
  }
 ],
 "metadata": {
  "kernelspec": {
   "display_name": "Python 3 (ipykernel)",
   "language": "python",
   "name": "python3"
  },
  "language_info": {
   "codemirror_mode": {
    "name": "ipython",
    "version": 3
   },
   "file_extension": ".py",
   "mimetype": "text/x-python",
   "name": "python",
   "nbconvert_exporter": "python",
   "pygments_lexer": "ipython3",
   "version": "3.7.13"
  }
 },
 "nbformat": 4,
 "nbformat_minor": 5
}
